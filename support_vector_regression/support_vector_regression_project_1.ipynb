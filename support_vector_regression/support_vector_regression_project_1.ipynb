{
  "nbformat": 4,
  "nbformat_minor": 0,
  "metadata": {
    "colab": {
      "provenance": []
    },
    "kernelspec": {
      "name": "python3",
      "display_name": "Python 3"
    }
  },
  "cells": [
    {
      "cell_type": "markdown",
      "metadata": {
        "id": "m3PAEPRDRLA3"
      },
      "source": [
        "# Support Vector Regression (SVR)"
      ]
    },
    {
      "cell_type": "markdown",
      "source": [
        "Mounting a Google Drive"
      ],
      "metadata": {
        "id": "p4KIpTQJdijN"
      }
    },
    {
      "cell_type": "code",
      "source": [
        "from google.colab import drive\n",
        "drive.mount('/content/drive/')"
      ],
      "metadata": {
        "colab": {
          "base_uri": "https://localhost:8080/"
        },
        "id": "lc4hpswSdm0o",
        "outputId": "9aee055f-e606-4881-e28a-71003414e2ce"
      },
      "execution_count": null,
      "outputs": [
        {
          "output_type": "stream",
          "name": "stdout",
          "text": [
            "Mounted at /content/drive/\n"
          ]
        }
      ]
    },
    {
      "cell_type": "markdown",
      "metadata": {
        "id": "0VCUAVIjRdzZ"
      },
      "source": [
        "## Importing the libraries"
      ]
    },
    {
      "cell_type": "code",
      "metadata": {
        "id": "56oRF-QfSDzC"
      },
      "source": [
        "import numpy as np\n",
        "import matplotlib.pyplot as plt\n",
        "import pandas as pd"
      ],
      "execution_count": null,
      "outputs": []
    },
    {
      "cell_type": "markdown",
      "metadata": {
        "id": "fXVXoFWtSF4_"
      },
      "source": [
        "## Importing the dataset"
      ]
    },
    {
      "cell_type": "code",
      "metadata": {
        "id": "xfoa8OSORfHQ",
        "colab": {
          "base_uri": "https://localhost:8080/"
        },
        "outputId": "abd0c855-96ce-4682-bbde-0b6c25a0ddfe"
      },
      "source": [
        "dataset = pd.read_csv('/content/drive/MyDrive/Colab Notebooks/RealEstateDataset.csv')\n",
        "X = dataset.iloc[:, 1:7].values\n",
        "y = dataset.iloc[:, -1].values\n",
        "print(X)\n",
        "print(y)"
      ],
      "execution_count": null,
      "outputs": [
        {
          "output_type": "stream",
          "name": "stdout",
          "text": [
            "[[2012.917     32.        84.87882   10.        24.98298  121.54024]\n",
            " [2012.917     19.5      306.5947     9.        24.98034  121.53951]\n",
            " [2013.583     13.3      561.9845     5.        24.98746  121.54391]\n",
            " ...\n",
            " [2013.25      18.8      390.9696     7.        24.97923  121.53986]\n",
            " [2013.         8.1      104.8101     5.        24.96674  121.54067]\n",
            " [2013.5        6.5       90.45606    9.        24.97433  121.5431 ]]\n",
            "[ 37.9  42.2  47.3  54.8  43.1  32.1  40.3  46.7  18.8  22.1  41.4  58.1\n",
            "  39.3  23.8  34.3  50.5  70.1  37.4  42.3  47.7  29.3  51.6  24.6  47.9\n",
            "  38.8  27.   56.2  33.6  47.   57.1  22.1  25.   34.2  49.3  55.1  27.3\n",
            "  22.9  25.3  47.7  46.2  15.9  18.2  34.7  34.1  53.9  38.3  42.   61.5\n",
            "  13.4  13.2  44.2  20.7  27.   38.9  51.7  13.7  41.9  53.5  22.6  42.4\n",
            "  21.3  63.2  27.7  55.   25.3  44.3  50.7  56.8  36.2  42.   59.   40.8\n",
            "  36.3  20.   54.4  29.5  36.8  25.6  29.8  26.5  40.3  36.8  48.1  17.7\n",
            "  43.7  50.8  27.   18.3  48.   25.3  45.4  43.2  21.8  16.1  41.   51.8\n",
            "  59.5  34.6  51.   62.2  38.2  32.9  54.4  45.7  30.5  71.   47.1  26.6\n",
            "  34.1  28.4  51.6  39.4  23.1   7.6  53.3  46.4  12.2  13.   30.6  59.6\n",
            "  31.3  48.   32.5  45.5  57.4  48.6  62.9  55.   60.7  41.   37.5  30.7\n",
            "  37.5  39.5  42.2  20.8  46.8  47.4  43.5  42.5  51.4  28.9  37.5  40.1\n",
            "  28.4  45.5  52.2  43.2  45.1  39.7  48.5  44.7  28.9  40.9  20.7  15.6\n",
            "  18.3  35.6  39.4  37.4  57.8  39.6  11.6  55.5  55.2  30.6  73.6  43.4\n",
            "  37.4  23.5  14.4  58.8  58.1  35.1  45.2  36.5  19.2  42.   36.7  42.6\n",
            "  15.5  55.9  23.6  18.8  21.8  21.5  25.7  22.   44.3  20.5  42.3  37.8\n",
            "  42.7  49.3  29.3  34.6  36.6  48.2  39.1  31.6  25.5  45.9  31.5  46.1\n",
            "  26.6  21.4  44.   34.2  26.2  40.9  52.2  43.5  31.1  58.   20.9  48.1\n",
            "  39.7  40.8  43.8  40.2  78.3  38.5  48.5  42.3  46.   49.   12.8  40.2\n",
            "  46.6  19.   33.4  14.7  17.4  32.4  23.9  39.3  61.9  39.   40.6  29.7\n",
            "  28.8  41.4  33.4  48.2  21.7  40.8  40.6  23.1  22.3  15.   30.   13.8\n",
            "  52.7  25.9  51.8  17.4  26.5  43.9  63.3  28.8  30.7  24.4  53.   31.7\n",
            "  40.6  38.1  23.7  41.1  40.1  23.  117.5  26.5  40.5  29.3  41.   49.7\n",
            "  34.   27.7  44.   31.1  45.4  44.8  25.6  23.5  34.4  55.3  56.3  32.9\n",
            "  51.   44.5  37.   54.4  24.5  42.5  38.1  21.8  34.1  28.5  16.7  46.1\n",
            "  36.9  35.7  23.2  38.4  29.4  55.   50.2  24.7  53.   19.1  24.7  42.2\n",
            "  78.   42.8  41.6  27.3  42.   37.5  49.8  26.9  18.6  37.7  33.1  42.5\n",
            "  31.3  38.1  62.1  36.7  23.6  19.2  12.8  15.6  39.6  38.4  22.8  36.5\n",
            "  35.6  30.9  36.3  50.4  42.9  37.   53.5  46.6  41.2  37.9  30.8  11.2\n",
            "  53.7  47.   42.3  28.6  25.7  31.3  30.1  60.7  45.3  44.9  45.1  24.7\n",
            "  47.1  63.3  40.   48.   33.1  29.5  24.8  20.9  43.1  22.8  42.1  51.7\n",
            "  41.5  52.2  49.5  23.8  30.5  56.8  37.4  69.7  53.3  47.3  29.3  40.3\n",
            "  12.9  46.6  55.3  25.6  27.3  67.7  38.6  31.3  35.3  40.3  24.7  42.5\n",
            "  31.9  32.2  23.   37.3  35.5  27.7  28.5  39.7  41.2  37.2  40.5  22.3\n",
            "  28.1  15.4  50.   40.6  52.5  63.9]\n"
          ]
        }
      ]
    },
    {
      "cell_type": "code",
      "metadata": {
        "id": "_8Ny1GfPiV3m",
        "colab": {
          "base_uri": "https://localhost:8080/"
        },
        "outputId": "cb69da7a-1d2a-4d32-aab9-2a0cf8be03a8"
      },
      "source": [
        "y = y.reshape(len(y),1)\n",
        "print(y)"
      ],
      "execution_count": null,
      "outputs": [
        {
          "output_type": "stream",
          "name": "stdout",
          "text": [
            "[[ 37.9]\n",
            " [ 42.2]\n",
            " [ 47.3]\n",
            " [ 54.8]\n",
            " [ 43.1]\n",
            " [ 32.1]\n",
            " [ 40.3]\n",
            " [ 46.7]\n",
            " [ 18.8]\n",
            " [ 22.1]\n",
            " [ 41.4]\n",
            " [ 58.1]\n",
            " [ 39.3]\n",
            " [ 23.8]\n",
            " [ 34.3]\n",
            " [ 50.5]\n",
            " [ 70.1]\n",
            " [ 37.4]\n",
            " [ 42.3]\n",
            " [ 47.7]\n",
            " [ 29.3]\n",
            " [ 51.6]\n",
            " [ 24.6]\n",
            " [ 47.9]\n",
            " [ 38.8]\n",
            " [ 27. ]\n",
            " [ 56.2]\n",
            " [ 33.6]\n",
            " [ 47. ]\n",
            " [ 57.1]\n",
            " [ 22.1]\n",
            " [ 25. ]\n",
            " [ 34.2]\n",
            " [ 49.3]\n",
            " [ 55.1]\n",
            " [ 27.3]\n",
            " [ 22.9]\n",
            " [ 25.3]\n",
            " [ 47.7]\n",
            " [ 46.2]\n",
            " [ 15.9]\n",
            " [ 18.2]\n",
            " [ 34.7]\n",
            " [ 34.1]\n",
            " [ 53.9]\n",
            " [ 38.3]\n",
            " [ 42. ]\n",
            " [ 61.5]\n",
            " [ 13.4]\n",
            " [ 13.2]\n",
            " [ 44.2]\n",
            " [ 20.7]\n",
            " [ 27. ]\n",
            " [ 38.9]\n",
            " [ 51.7]\n",
            " [ 13.7]\n",
            " [ 41.9]\n",
            " [ 53.5]\n",
            " [ 22.6]\n",
            " [ 42.4]\n",
            " [ 21.3]\n",
            " [ 63.2]\n",
            " [ 27.7]\n",
            " [ 55. ]\n",
            " [ 25.3]\n",
            " [ 44.3]\n",
            " [ 50.7]\n",
            " [ 56.8]\n",
            " [ 36.2]\n",
            " [ 42. ]\n",
            " [ 59. ]\n",
            " [ 40.8]\n",
            " [ 36.3]\n",
            " [ 20. ]\n",
            " [ 54.4]\n",
            " [ 29.5]\n",
            " [ 36.8]\n",
            " [ 25.6]\n",
            " [ 29.8]\n",
            " [ 26.5]\n",
            " [ 40.3]\n",
            " [ 36.8]\n",
            " [ 48.1]\n",
            " [ 17.7]\n",
            " [ 43.7]\n",
            " [ 50.8]\n",
            " [ 27. ]\n",
            " [ 18.3]\n",
            " [ 48. ]\n",
            " [ 25.3]\n",
            " [ 45.4]\n",
            " [ 43.2]\n",
            " [ 21.8]\n",
            " [ 16.1]\n",
            " [ 41. ]\n",
            " [ 51.8]\n",
            " [ 59.5]\n",
            " [ 34.6]\n",
            " [ 51. ]\n",
            " [ 62.2]\n",
            " [ 38.2]\n",
            " [ 32.9]\n",
            " [ 54.4]\n",
            " [ 45.7]\n",
            " [ 30.5]\n",
            " [ 71. ]\n",
            " [ 47.1]\n",
            " [ 26.6]\n",
            " [ 34.1]\n",
            " [ 28.4]\n",
            " [ 51.6]\n",
            " [ 39.4]\n",
            " [ 23.1]\n",
            " [  7.6]\n",
            " [ 53.3]\n",
            " [ 46.4]\n",
            " [ 12.2]\n",
            " [ 13. ]\n",
            " [ 30.6]\n",
            " [ 59.6]\n",
            " [ 31.3]\n",
            " [ 48. ]\n",
            " [ 32.5]\n",
            " [ 45.5]\n",
            " [ 57.4]\n",
            " [ 48.6]\n",
            " [ 62.9]\n",
            " [ 55. ]\n",
            " [ 60.7]\n",
            " [ 41. ]\n",
            " [ 37.5]\n",
            " [ 30.7]\n",
            " [ 37.5]\n",
            " [ 39.5]\n",
            " [ 42.2]\n",
            " [ 20.8]\n",
            " [ 46.8]\n",
            " [ 47.4]\n",
            " [ 43.5]\n",
            " [ 42.5]\n",
            " [ 51.4]\n",
            " [ 28.9]\n",
            " [ 37.5]\n",
            " [ 40.1]\n",
            " [ 28.4]\n",
            " [ 45.5]\n",
            " [ 52.2]\n",
            " [ 43.2]\n",
            " [ 45.1]\n",
            " [ 39.7]\n",
            " [ 48.5]\n",
            " [ 44.7]\n",
            " [ 28.9]\n",
            " [ 40.9]\n",
            " [ 20.7]\n",
            " [ 15.6]\n",
            " [ 18.3]\n",
            " [ 35.6]\n",
            " [ 39.4]\n",
            " [ 37.4]\n",
            " [ 57.8]\n",
            " [ 39.6]\n",
            " [ 11.6]\n",
            " [ 55.5]\n",
            " [ 55.2]\n",
            " [ 30.6]\n",
            " [ 73.6]\n",
            " [ 43.4]\n",
            " [ 37.4]\n",
            " [ 23.5]\n",
            " [ 14.4]\n",
            " [ 58.8]\n",
            " [ 58.1]\n",
            " [ 35.1]\n",
            " [ 45.2]\n",
            " [ 36.5]\n",
            " [ 19.2]\n",
            " [ 42. ]\n",
            " [ 36.7]\n",
            " [ 42.6]\n",
            " [ 15.5]\n",
            " [ 55.9]\n",
            " [ 23.6]\n",
            " [ 18.8]\n",
            " [ 21.8]\n",
            " [ 21.5]\n",
            " [ 25.7]\n",
            " [ 22. ]\n",
            " [ 44.3]\n",
            " [ 20.5]\n",
            " [ 42.3]\n",
            " [ 37.8]\n",
            " [ 42.7]\n",
            " [ 49.3]\n",
            " [ 29.3]\n",
            " [ 34.6]\n",
            " [ 36.6]\n",
            " [ 48.2]\n",
            " [ 39.1]\n",
            " [ 31.6]\n",
            " [ 25.5]\n",
            " [ 45.9]\n",
            " [ 31.5]\n",
            " [ 46.1]\n",
            " [ 26.6]\n",
            " [ 21.4]\n",
            " [ 44. ]\n",
            " [ 34.2]\n",
            " [ 26.2]\n",
            " [ 40.9]\n",
            " [ 52.2]\n",
            " [ 43.5]\n",
            " [ 31.1]\n",
            " [ 58. ]\n",
            " [ 20.9]\n",
            " [ 48.1]\n",
            " [ 39.7]\n",
            " [ 40.8]\n",
            " [ 43.8]\n",
            " [ 40.2]\n",
            " [ 78.3]\n",
            " [ 38.5]\n",
            " [ 48.5]\n",
            " [ 42.3]\n",
            " [ 46. ]\n",
            " [ 49. ]\n",
            " [ 12.8]\n",
            " [ 40.2]\n",
            " [ 46.6]\n",
            " [ 19. ]\n",
            " [ 33.4]\n",
            " [ 14.7]\n",
            " [ 17.4]\n",
            " [ 32.4]\n",
            " [ 23.9]\n",
            " [ 39.3]\n",
            " [ 61.9]\n",
            " [ 39. ]\n",
            " [ 40.6]\n",
            " [ 29.7]\n",
            " [ 28.8]\n",
            " [ 41.4]\n",
            " [ 33.4]\n",
            " [ 48.2]\n",
            " [ 21.7]\n",
            " [ 40.8]\n",
            " [ 40.6]\n",
            " [ 23.1]\n",
            " [ 22.3]\n",
            " [ 15. ]\n",
            " [ 30. ]\n",
            " [ 13.8]\n",
            " [ 52.7]\n",
            " [ 25.9]\n",
            " [ 51.8]\n",
            " [ 17.4]\n",
            " [ 26.5]\n",
            " [ 43.9]\n",
            " [ 63.3]\n",
            " [ 28.8]\n",
            " [ 30.7]\n",
            " [ 24.4]\n",
            " [ 53. ]\n",
            " [ 31.7]\n",
            " [ 40.6]\n",
            " [ 38.1]\n",
            " [ 23.7]\n",
            " [ 41.1]\n",
            " [ 40.1]\n",
            " [ 23. ]\n",
            " [117.5]\n",
            " [ 26.5]\n",
            " [ 40.5]\n",
            " [ 29.3]\n",
            " [ 41. ]\n",
            " [ 49.7]\n",
            " [ 34. ]\n",
            " [ 27.7]\n",
            " [ 44. ]\n",
            " [ 31.1]\n",
            " [ 45.4]\n",
            " [ 44.8]\n",
            " [ 25.6]\n",
            " [ 23.5]\n",
            " [ 34.4]\n",
            " [ 55.3]\n",
            " [ 56.3]\n",
            " [ 32.9]\n",
            " [ 51. ]\n",
            " [ 44.5]\n",
            " [ 37. ]\n",
            " [ 54.4]\n",
            " [ 24.5]\n",
            " [ 42.5]\n",
            " [ 38.1]\n",
            " [ 21.8]\n",
            " [ 34.1]\n",
            " [ 28.5]\n",
            " [ 16.7]\n",
            " [ 46.1]\n",
            " [ 36.9]\n",
            " [ 35.7]\n",
            " [ 23.2]\n",
            " [ 38.4]\n",
            " [ 29.4]\n",
            " [ 55. ]\n",
            " [ 50.2]\n",
            " [ 24.7]\n",
            " [ 53. ]\n",
            " [ 19.1]\n",
            " [ 24.7]\n",
            " [ 42.2]\n",
            " [ 78. ]\n",
            " [ 42.8]\n",
            " [ 41.6]\n",
            " [ 27.3]\n",
            " [ 42. ]\n",
            " [ 37.5]\n",
            " [ 49.8]\n",
            " [ 26.9]\n",
            " [ 18.6]\n",
            " [ 37.7]\n",
            " [ 33.1]\n",
            " [ 42.5]\n",
            " [ 31.3]\n",
            " [ 38.1]\n",
            " [ 62.1]\n",
            " [ 36.7]\n",
            " [ 23.6]\n",
            " [ 19.2]\n",
            " [ 12.8]\n",
            " [ 15.6]\n",
            " [ 39.6]\n",
            " [ 38.4]\n",
            " [ 22.8]\n",
            " [ 36.5]\n",
            " [ 35.6]\n",
            " [ 30.9]\n",
            " [ 36.3]\n",
            " [ 50.4]\n",
            " [ 42.9]\n",
            " [ 37. ]\n",
            " [ 53.5]\n",
            " [ 46.6]\n",
            " [ 41.2]\n",
            " [ 37.9]\n",
            " [ 30.8]\n",
            " [ 11.2]\n",
            " [ 53.7]\n",
            " [ 47. ]\n",
            " [ 42.3]\n",
            " [ 28.6]\n",
            " [ 25.7]\n",
            " [ 31.3]\n",
            " [ 30.1]\n",
            " [ 60.7]\n",
            " [ 45.3]\n",
            " [ 44.9]\n",
            " [ 45.1]\n",
            " [ 24.7]\n",
            " [ 47.1]\n",
            " [ 63.3]\n",
            " [ 40. ]\n",
            " [ 48. ]\n",
            " [ 33.1]\n",
            " [ 29.5]\n",
            " [ 24.8]\n",
            " [ 20.9]\n",
            " [ 43.1]\n",
            " [ 22.8]\n",
            " [ 42.1]\n",
            " [ 51.7]\n",
            " [ 41.5]\n",
            " [ 52.2]\n",
            " [ 49.5]\n",
            " [ 23.8]\n",
            " [ 30.5]\n",
            " [ 56.8]\n",
            " [ 37.4]\n",
            " [ 69.7]\n",
            " [ 53.3]\n",
            " [ 47.3]\n",
            " [ 29.3]\n",
            " [ 40.3]\n",
            " [ 12.9]\n",
            " [ 46.6]\n",
            " [ 55.3]\n",
            " [ 25.6]\n",
            " [ 27.3]\n",
            " [ 67.7]\n",
            " [ 38.6]\n",
            " [ 31.3]\n",
            " [ 35.3]\n",
            " [ 40.3]\n",
            " [ 24.7]\n",
            " [ 42.5]\n",
            " [ 31.9]\n",
            " [ 32.2]\n",
            " [ 23. ]\n",
            " [ 37.3]\n",
            " [ 35.5]\n",
            " [ 27.7]\n",
            " [ 28.5]\n",
            " [ 39.7]\n",
            " [ 41.2]\n",
            " [ 37.2]\n",
            " [ 40.5]\n",
            " [ 22.3]\n",
            " [ 28.1]\n",
            " [ 15.4]\n",
            " [ 50. ]\n",
            " [ 40.6]\n",
            " [ 52.5]\n",
            " [ 63.9]]\n"
          ]
        }
      ]
    },
    {
      "cell_type": "markdown",
      "metadata": {
        "id": "6Vk3nNlrCVCN"
      },
      "source": [
        "## Splitting the dataset into the Training set and Test set"
      ]
    },
    {
      "cell_type": "code",
      "metadata": {
        "id": "x_fXqrziCV3_"
      },
      "source": [
        "from sklearn.model_selection import train_test_split\n",
        "X_train, X_test, y_train, y_test = train_test_split(X, y, test_size = 0.2, random_state = 0)"
      ],
      "execution_count": null,
      "outputs": []
    },
    {
      "cell_type": "markdown",
      "metadata": {
        "id": "YS8FeLHYS-nI"
      },
      "source": [
        "## Feature Scaling"
      ]
    },
    {
      "cell_type": "code",
      "metadata": {
        "id": "PGeAlD1HTDI1"
      },
      "source": [
        "from sklearn.preprocessing import StandardScaler\n",
        "sc_X = StandardScaler()\n",
        "sc_y = StandardScaler()\n",
        "X_train = sc_X.fit_transform(X_train)\n",
        "y_train = sc_y.fit_transform(y_train)"
      ],
      "execution_count": null,
      "outputs": []
    },
    {
      "cell_type": "markdown",
      "metadata": {
        "id": "eiU6D2QFRjxY"
      },
      "source": [
        "## Training the SVR model on the Training set"
      ]
    },
    {
      "cell_type": "code",
      "metadata": {
        "id": "y6R4rt_GRz15",
        "colab": {
          "base_uri": "https://localhost:8080/",
          "height": 129
        },
        "outputId": "5acc39a3-e591-42e2-97b0-7ff9ff0469f2"
      },
      "source": [
        "from sklearn.svm import SVR\n",
        "regressor = SVR(kernel = 'rbf')\n",
        "regressor.fit(X_train, y_train)"
      ],
      "execution_count": null,
      "outputs": [
        {
          "output_type": "stream",
          "name": "stderr",
          "text": [
            "/usr/local/lib/python3.10/dist-packages/sklearn/utils/validation.py:1143: DataConversionWarning: A column-vector y was passed when a 1d array was expected. Please change the shape of y to (n_samples, ), for example using ravel().\n",
            "  y = column_or_1d(y, warn=True)\n"
          ]
        },
        {
          "output_type": "execute_result",
          "data": {
            "text/plain": [
              "SVR()"
            ],
            "text/html": [
              "<style>#sk-container-id-1 {color: black;background-color: white;}#sk-container-id-1 pre{padding: 0;}#sk-container-id-1 div.sk-toggleable {background-color: white;}#sk-container-id-1 label.sk-toggleable__label {cursor: pointer;display: block;width: 100%;margin-bottom: 0;padding: 0.3em;box-sizing: border-box;text-align: center;}#sk-container-id-1 label.sk-toggleable__label-arrow:before {content: \"▸\";float: left;margin-right: 0.25em;color: #696969;}#sk-container-id-1 label.sk-toggleable__label-arrow:hover:before {color: black;}#sk-container-id-1 div.sk-estimator:hover label.sk-toggleable__label-arrow:before {color: black;}#sk-container-id-1 div.sk-toggleable__content {max-height: 0;max-width: 0;overflow: hidden;text-align: left;background-color: #f0f8ff;}#sk-container-id-1 div.sk-toggleable__content pre {margin: 0.2em;color: black;border-radius: 0.25em;background-color: #f0f8ff;}#sk-container-id-1 input.sk-toggleable__control:checked~div.sk-toggleable__content {max-height: 200px;max-width: 100%;overflow: auto;}#sk-container-id-1 input.sk-toggleable__control:checked~label.sk-toggleable__label-arrow:before {content: \"▾\";}#sk-container-id-1 div.sk-estimator input.sk-toggleable__control:checked~label.sk-toggleable__label {background-color: #d4ebff;}#sk-container-id-1 div.sk-label input.sk-toggleable__control:checked~label.sk-toggleable__label {background-color: #d4ebff;}#sk-container-id-1 input.sk-hidden--visually {border: 0;clip: rect(1px 1px 1px 1px);clip: rect(1px, 1px, 1px, 1px);height: 1px;margin: -1px;overflow: hidden;padding: 0;position: absolute;width: 1px;}#sk-container-id-1 div.sk-estimator {font-family: monospace;background-color: #f0f8ff;border: 1px dotted black;border-radius: 0.25em;box-sizing: border-box;margin-bottom: 0.5em;}#sk-container-id-1 div.sk-estimator:hover {background-color: #d4ebff;}#sk-container-id-1 div.sk-parallel-item::after {content: \"\";width: 100%;border-bottom: 1px solid gray;flex-grow: 1;}#sk-container-id-1 div.sk-label:hover label.sk-toggleable__label {background-color: #d4ebff;}#sk-container-id-1 div.sk-serial::before {content: \"\";position: absolute;border-left: 1px solid gray;box-sizing: border-box;top: 0;bottom: 0;left: 50%;z-index: 0;}#sk-container-id-1 div.sk-serial {display: flex;flex-direction: column;align-items: center;background-color: white;padding-right: 0.2em;padding-left: 0.2em;position: relative;}#sk-container-id-1 div.sk-item {position: relative;z-index: 1;}#sk-container-id-1 div.sk-parallel {display: flex;align-items: stretch;justify-content: center;background-color: white;position: relative;}#sk-container-id-1 div.sk-item::before, #sk-container-id-1 div.sk-parallel-item::before {content: \"\";position: absolute;border-left: 1px solid gray;box-sizing: border-box;top: 0;bottom: 0;left: 50%;z-index: -1;}#sk-container-id-1 div.sk-parallel-item {display: flex;flex-direction: column;z-index: 1;position: relative;background-color: white;}#sk-container-id-1 div.sk-parallel-item:first-child::after {align-self: flex-end;width: 50%;}#sk-container-id-1 div.sk-parallel-item:last-child::after {align-self: flex-start;width: 50%;}#sk-container-id-1 div.sk-parallel-item:only-child::after {width: 0;}#sk-container-id-1 div.sk-dashed-wrapped {border: 1px dashed gray;margin: 0 0.4em 0.5em 0.4em;box-sizing: border-box;padding-bottom: 0.4em;background-color: white;}#sk-container-id-1 div.sk-label label {font-family: monospace;font-weight: bold;display: inline-block;line-height: 1.2em;}#sk-container-id-1 div.sk-label-container {text-align: center;}#sk-container-id-1 div.sk-container {/* jupyter's `normalize.less` sets `[hidden] { display: none; }` but bootstrap.min.css set `[hidden] { display: none !important; }` so we also need the `!important` here to be able to override the default hidden behavior on the sphinx rendered scikit-learn.org. See: https://github.com/scikit-learn/scikit-learn/issues/21755 */display: inline-block !important;position: relative;}#sk-container-id-1 div.sk-text-repr-fallback {display: none;}</style><div id=\"sk-container-id-1\" class=\"sk-top-container\"><div class=\"sk-text-repr-fallback\"><pre>SVR()</pre><b>In a Jupyter environment, please rerun this cell to show the HTML representation or trust the notebook. <br />On GitHub, the HTML representation is unable to render, please try loading this page with nbviewer.org.</b></div><div class=\"sk-container\" hidden><div class=\"sk-item\"><div class=\"sk-estimator sk-toggleable\"><input class=\"sk-toggleable__control sk-hidden--visually\" id=\"sk-estimator-id-1\" type=\"checkbox\" checked><label for=\"sk-estimator-id-1\" class=\"sk-toggleable__label sk-toggleable__label-arrow\">SVR</label><div class=\"sk-toggleable__content\"><pre>SVR()</pre></div></div></div></div></div>"
            ]
          },
          "metadata": {},
          "execution_count": 7
        }
      ]
    },
    {
      "cell_type": "markdown",
      "metadata": {
        "id": "aPYA5W1pDBOE"
      },
      "source": [
        "## Predicting the Test set results"
      ]
    },
    {
      "cell_type": "code",
      "metadata": {
        "id": "vSqFVDYrDROW",
        "colab": {
          "base_uri": "https://localhost:8080/"
        },
        "outputId": "3165a0ef-0dd8-4b8e-94bc-542f82ef991f"
      },
      "source": [
        "y_pred = sc_y.inverse_transform(regressor.predict(sc_X.transform(X_test)).reshape(-1,1))\n",
        "np.set_printoptions(precision=2)\n",
        "print(np.concatenate((y_pred.reshape(len(y_pred),1), y_test.reshape(len(y_test),1)),axis=1))"
      ],
      "execution_count": null,
      "outputs": [
        {
          "output_type": "stream",
          "name": "stdout",
          "text": [
            "[[39.52 45.3 ]\n",
            " [15.67 14.4 ]\n",
            " [40.66 46.  ]\n",
            " [16.41 15.6 ]\n",
            " [43.77 50.2 ]\n",
            " [39.59 38.1 ]\n",
            " [41.19 48.5 ]\n",
            " [38.13 41.4 ]\n",
            " [53.79 51.6 ]\n",
            " [47.01 40.1 ]\n",
            " [47.14 42.  ]\n",
            " [37.31 42.4 ]\n",
            " [38.43 28.5 ]\n",
            " [41.16 39.1 ]\n",
            " [52.52 53.7 ]\n",
            " [39.64 36.8 ]\n",
            " [39.03 40.6 ]\n",
            " [40.89 55.2 ]\n",
            " [40.78 39.3 ]\n",
            " [40.72 44.3 ]\n",
            " [49.72 53.5 ]\n",
            " [23.87 25.3 ]\n",
            " [31.61 22.8 ]\n",
            " [47.57 51.7 ]\n",
            " [51.05 45.5 ]\n",
            " [44.8  34.4 ]\n",
            " [45.01 31.6 ]\n",
            " [21.19 25.9 ]\n",
            " [52.48 49.5 ]\n",
            " [23.8  24.7 ]\n",
            " [43.84 51.7 ]\n",
            " [29.24 29.7 ]\n",
            " [43.6  45.4 ]\n",
            " [39.68 50.5 ]\n",
            " [43.96 26.5 ]\n",
            " [26.34 30.1 ]\n",
            " [40.47 46.1 ]\n",
            " [31.24 28.9 ]\n",
            " [49.77 54.4 ]\n",
            " [17.44 15.  ]\n",
            " [56.55 44.9 ]\n",
            " [36.6  29.8 ]\n",
            " [27.91 23.6 ]\n",
            " [41.12 48.  ]\n",
            " [18.69 16.7 ]\n",
            " [41.19 40.9 ]\n",
            " [37.9  40.2 ]\n",
            " [16.36 12.9 ]\n",
            " [27.88 21.3 ]\n",
            " [48.76 62.1 ]\n",
            " [57.43 63.9 ]\n",
            " [36.12 40.3 ]\n",
            " [44.74 42.2 ]\n",
            " [16.58 19.1 ]\n",
            " [23.59 28.4 ]\n",
            " [35.64 28.5 ]\n",
            " [53.64 60.7 ]\n",
            " [39.93 37.5 ]\n",
            " [45.45 39.3 ]\n",
            " [25.24 28.8 ]\n",
            " [37.86 42.3 ]\n",
            " [40.6  44.3 ]\n",
            " [39.38 42.6 ]\n",
            " [51.43 57.4 ]\n",
            " [37.51 42.2 ]\n",
            " [22.79 25.7 ]\n",
            " [18.1  13.2 ]\n",
            " [33.53 27.  ]\n",
            " [49.18 56.2 ]\n",
            " [39.59 38.3 ]\n",
            " [23.93 20.8 ]\n",
            " [50.76 43.1 ]\n",
            " [40.77 78.3 ]\n",
            " [25.77 20.9 ]\n",
            " [40.56 32.5 ]\n",
            " [29.2  33.4 ]\n",
            " [30.78 32.1 ]\n",
            " [13.99 19.2 ]\n",
            " [48.81 53.  ]\n",
            " [38.83 38.2 ]\n",
            " [46.74 46.7 ]\n",
            " [22.73 24.6 ]\n",
            " [40.32 36.2 ]]\n"
          ]
        }
      ]
    },
    {
      "cell_type": "markdown",
      "metadata": {
        "id": "CMsYlps2DX1d"
      },
      "source": [
        "## Evaluating the Model Performance"
      ]
    },
    {
      "cell_type": "code",
      "metadata": {
        "id": "HxsRWlURDr6S",
        "colab": {
          "base_uri": "https://localhost:8080/"
        },
        "outputId": "ca02ce7c-5db0-447e-c9be-221dc1d6f920"
      },
      "source": [
        "from sklearn.metrics import r2_score, mean_squared_error,mean_absolute_percentage_error\n",
        "import math\n",
        "maxY=max(y_test)\n",
        "minY=min(y_test)\n",
        "a=maxY-minY\n",
        "print(a)\n",
        "print (\"The R-Squared value is: \"+str(r2_score(y_test, y_pred)))\n",
        "print (\"The Mean Squared Error value is: \"+str(mean_squared_error(y_test, y_pred)))\n",
        "print (\"The Root Mean Squared Error value is: \"+str(math.sqrt(mean_squared_error(y_test, y_pred))))\n",
        "print (\"The Normalize Root Mean Squared Error value is: \"+str(math.sqrt(mean_squared_error(y_test, y_pred))/(a[0])*100))\n",
        "print (\"The Mean Absolute Error value is: \"+str(mean_absolute_percentage_error(y_test, y_pred)*100))"
      ],
      "execution_count": null,
      "outputs": [
        {
          "output_type": "stream",
          "name": "stdout",
          "text": [
            "[65.4]\n",
            "The R-Squared value is: 0.7044881583675278\n",
            "The Mean Squared Error value is: 51.330115197479564\n",
            "The Root Mean Squared Error value is: 7.164503834703389\n",
            "The Normalize Root Mean Squared Error value is: 10.954898829821696\n",
            "The Mean Absolute Error value is: 14.430131154033642\n"
          ]
        }
      ]
    }
  ]
}