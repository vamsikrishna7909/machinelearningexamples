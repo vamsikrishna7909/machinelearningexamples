{
  "cells": [
    {
      "cell_type": "markdown",
      "metadata": {
        "id": "3cbb7fRy-eyr"
      },
      "source": [
        "# Recurrent Neural Network (RNN)"
      ]
    },
    {
      "cell_type": "markdown",
      "metadata": {
        "id": "8sNDnxE2-pwE"
      },
      "source": [
        "### Importing the libraries"
      ]
    },
    {
      "cell_type": "code",
      "execution_count": 1,
      "metadata": {
        "id": "lxChR1Rk-umf"
      },
      "outputs": [],
      "source": [
        "import numpy as np\n",
        "import pandas as pd\n",
        "import tensorflow as tf"
      ]
    },
    {
      "cell_type": "markdown",
      "metadata": {
        "id": "AG3FQEch-yuA"
      },
      "source": [
        "## Part 1 - Data Preprocessing"
      ]
    },
    {
      "cell_type": "markdown",
      "metadata": {
        "id": "-4zq8Mza_D9O"
      },
      "source": [
        "### Importing the dataset"
      ]
    },
    {
      "cell_type": "code",
      "execution_count": 2,
      "metadata": {
        "id": "B9CV13Co_HHM"
      },
      "outputs": [],
      "source": [
        "dataset = pd.read_excel('Data.xlsx')\n",
        "X = dataset.iloc[:, :-1].values\n",
        "y = dataset.iloc[:, -1].values"
      ]
    },
    {
      "cell_type": "code",
      "execution_count": 3,
      "metadata": {
        "colab": {
          "base_uri": "https://localhost:8080/"
        },
        "id": "Dg8BBM-8pKHn",
        "outputId": "da500e99-6734-4204-e4bb-78d05c9d9dc7"
      },
      "outputs": [
        {
          "output_type": "stream",
          "name": "stdout",
          "text": [
            "[[  14.96   41.76 1024.07   73.17]\n",
            " [  25.18   62.96 1020.04   59.08]\n",
            " [   5.11   39.4  1012.16   92.14]\n",
            " ...\n",
            " [  12.07   39.99 1009.7    93.27]\n",
            " [  28.83   66.44 1008.47   77.49]\n",
            " [  19.94   44.9  1008.52   74.69]]\n",
            "[463.26 444.37 488.56 ... 473.06 430.01 459.47]\n",
            "(10000, 4)\n",
            "(10000,)\n"
          ]
        }
      ],
      "source": [
        "print(X)\n",
        "print(y)\n",
        "print(X.shape)\n",
        "print(y.shape)"
      ]
    },
    {
      "cell_type": "markdown",
      "metadata": {
        "id": "VC6omXel_Up0"
      },
      "source": [
        "### Splitting the dataset into the Training set and Test set"
      ]
    },
    {
      "cell_type": "code",
      "execution_count": 4,
      "metadata": {
        "id": "L5edeb2r_agx"
      },
      "outputs": [],
      "source": [
        "from sklearn.model_selection import train_test_split\n",
        "X_train, X_test, y_train, y_test = train_test_split(X, y, test_size = 0.2, random_state = 0)"
      ]
    },
    {
      "cell_type": "code",
      "execution_count": 5,
      "metadata": {
        "colab": {
          "base_uri": "https://localhost:8080/"
        },
        "id": "MWxRDYpwu81l",
        "outputId": "617a2753-3baa-40dd-96a7-6917c8406151"
      },
      "outputs": [
        {
          "output_type": "stream",
          "name": "stdout",
          "text": [
            "[[  25.28   67.69 1009.05   68.54]\n",
            " [   7.95   41.26 1008.48   97.92]\n",
            " [  26.95   72.24 1011.16   73.14]\n",
            " ...\n",
            " [  12.8    41.16 1022.43   86.19]\n",
            " [  22.42   71.77 1005.5    90.62]\n",
            " [  32.32   67.9  1006.08   37.93]]\n",
            "[445.34 480.6  435.65 ... 462.72 435.06 428.12]\n"
          ]
        }
      ],
      "source": [
        "print(X_train)\n",
        "print(y_train)"
      ]
    },
    {
      "cell_type": "markdown",
      "metadata": {
        "id": "3tDViTEasrlG"
      },
      "source": [
        "##Feature Scaling"
      ]
    },
    {
      "cell_type": "code",
      "execution_count": 6,
      "metadata": {
        "id": "RElVNX78xOhX"
      },
      "outputs": [],
      "source": [
        "from sklearn.preprocessing import StandardScaler\n",
        "sc = StandardScaler()\n",
        "X_train = sc.fit_transform(X_train)\n",
        "X_test = sc.transform(X_test)"
      ]
    },
    {
      "cell_type": "code",
      "execution_count": 7,
      "metadata": {
        "colab": {
          "base_uri": "https://localhost:8080/"
        },
        "id": "Wl15NIWVy5Do",
        "outputId": "7961b9de-3d9a-472b-b95f-bb4770558c17"
      },
      "outputs": [
        {
          "output_type": "stream",
          "name": "stdout",
          "text": [
            "[[445.34]\n",
            " [480.6 ]\n",
            " [435.65]\n",
            " ...\n",
            " [462.72]\n",
            " [435.06]\n",
            " [428.12]]\n",
            "[[455.58]\n",
            " [436.21]\n",
            " [458.28]\n",
            " ...\n",
            " [465.89]\n",
            " [451.51]\n",
            " [467.39]]\n"
          ]
        }
      ],
      "source": [
        "print(y_train.reshape(-1,1))\n",
        "print(y_test.reshape(-1,1))\n"
      ]
    },
    {
      "cell_type": "code",
      "execution_count": 8,
      "metadata": {
        "id": "w3FvNqbAs0zk"
      },
      "outputs": [],
      "source": [
        "sc1 = StandardScaler()\n",
        "y_train = sc1.fit_transform(y_train.reshape(-1,1))\n"
      ]
    },
    {
      "cell_type": "markdown",
      "metadata": {
        "id": "_mSLlAT9_eyI"
      },
      "source": [
        "## Part 2 - Building the RNN"
      ]
    },
    {
      "cell_type": "markdown",
      "metadata": {
        "id": "CsBULd_f_wLY"
      },
      "source": [
        "### Initializing the RNN"
      ]
    },
    {
      "cell_type": "code",
      "execution_count": 9,
      "metadata": {
        "id": "J6Hd97Ls__Nz"
      },
      "outputs": [],
      "source": [
        "rnn = tf.keras.models.Sequential()"
      ]
    },
    {
      "cell_type": "markdown",
      "metadata": {
        "id": "J2o6YjtpXcbw"
      },
      "source": []
    },
    {
      "cell_type": "markdown",
      "metadata": {
        "id": "iitAFJS_ABUn"
      },
      "source": [
        "### Adding the input layer and the first hidden layer"
      ]
    },
    {
      "cell_type": "code",
      "execution_count": 10,
      "metadata": {
        "id": "ksO_Vv40AHix"
      },
      "outputs": [],
      "source": [
        "rnn.add(tf.keras.layers.SimpleRNN(units=70, return_sequences=True, input_shape=(4,1)))"
      ]
    },
    {
      "cell_type": "markdown",
      "metadata": {
        "id": "-lb4kK_wAKbs"
      },
      "source": [
        "### Adding the second hidden layer"
      ]
    },
    {
      "cell_type": "code",
      "execution_count": 11,
      "metadata": {
        "id": "c2357OqEAQOQ"
      },
      "outputs": [],
      "source": [
        "rnn.add(tf.keras.layers.SimpleRNN(units=70, return_sequences=True))"
      ]
    },
    {
      "cell_type": "markdown",
      "source": [
        "# Adding the third hidden layer"
      ],
      "metadata": {
        "id": "ZpSqsUzqWgwV"
      }
    },
    {
      "cell_type": "code",
      "source": [
        "rnn.add(tf.keras.layers.SimpleRNN(units=70, return_sequences=False))"
      ],
      "metadata": {
        "id": "9QoXmq19Uecb"
      },
      "execution_count": 12,
      "outputs": []
    },
    {
      "cell_type": "markdown",
      "metadata": {
        "id": "jwMOmKb3AdBY"
      },
      "source": [
        "### Adding the output layer"
      ]
    },
    {
      "cell_type": "code",
      "execution_count": 13,
      "metadata": {
        "id": "YFATpzsUAkLL"
      },
      "outputs": [],
      "source": [
        "rnn.add(tf.keras.layers.Dense(1, activation='sigmoid'))"
      ]
    },
    {
      "cell_type": "markdown",
      "metadata": {
        "id": "fq7e4fF6A1yy"
      },
      "source": [
        "## Part 3 - Training the ANN"
      ]
    },
    {
      "cell_type": "markdown",
      "metadata": {
        "id": "qDeylAs2An25"
      },
      "source": [
        "### Compiling the ANN"
      ]
    },
    {
      "cell_type": "code",
      "execution_count": 15,
      "metadata": {
        "id": "pesgbWlCAtB4"
      },
      "outputs": [],
      "source": [
        "rnn.compile(optimizer = 'adam', loss = 'mean_squared_error')"
      ]
    },
    {
      "cell_type": "markdown",
      "metadata": {
        "id": "YjVuiybYOo7r"
      },
      "source": [
        "### Training the ANN model on the Training set"
      ]
    },
    {
      "cell_type": "code",
      "execution_count": 16,
      "metadata": {
        "colab": {
          "base_uri": "https://localhost:8080/"
        },
        "id": "c_vV-tiiA5zn",
        "outputId": "cadb3fc9-df12-48e7-efb5-55250f72d2a5"
      },
      "outputs": [
        {
          "output_type": "stream",
          "name": "stdout",
          "text": [
            "Epoch 1/100\n",
            "250/250 [==============================] - 5s 9ms/step - loss: 0.5429\n",
            "Epoch 2/100\n",
            "250/250 [==============================] - 2s 10ms/step - loss: 0.5315\n",
            "Epoch 3/100\n",
            "250/250 [==============================] - 2s 7ms/step - loss: 0.5300\n",
            "Epoch 4/100\n",
            "250/250 [==============================] - 2s 6ms/step - loss: 0.5294\n",
            "Epoch 5/100\n",
            "250/250 [==============================] - 2s 6ms/step - loss: 0.5290\n",
            "Epoch 6/100\n",
            "250/250 [==============================] - 2s 6ms/step - loss: 0.5292\n",
            "Epoch 7/100\n",
            "250/250 [==============================] - 1s 6ms/step - loss: 0.5290\n",
            "Epoch 8/100\n",
            "250/250 [==============================] - 1s 6ms/step - loss: 0.5289\n",
            "Epoch 9/100\n",
            "250/250 [==============================] - 2s 6ms/step - loss: 0.5284\n",
            "Epoch 10/100\n",
            "250/250 [==============================] - 2s 9ms/step - loss: 0.5283\n",
            "Epoch 11/100\n",
            "250/250 [==============================] - 2s 9ms/step - loss: 0.5277\n",
            "Epoch 12/100\n",
            "250/250 [==============================] - 1s 6ms/step - loss: 0.5282\n",
            "Epoch 13/100\n",
            "250/250 [==============================] - 2s 6ms/step - loss: 0.5276\n",
            "Epoch 14/100\n",
            "250/250 [==============================] - 2s 6ms/step - loss: 0.5277\n",
            "Epoch 15/100\n",
            "250/250 [==============================] - 2s 6ms/step - loss: 0.5275\n",
            "Epoch 16/100\n",
            "250/250 [==============================] - 1s 6ms/step - loss: 0.5272\n",
            "Epoch 17/100\n",
            "250/250 [==============================] - 2s 6ms/step - loss: 0.5274\n",
            "Epoch 18/100\n",
            "250/250 [==============================] - 2s 8ms/step - loss: 0.5267\n",
            "Epoch 19/100\n",
            "250/250 [==============================] - 2s 10ms/step - loss: 0.5270\n",
            "Epoch 20/100\n",
            "250/250 [==============================] - 2s 8ms/step - loss: 0.5268\n",
            "Epoch 21/100\n",
            "250/250 [==============================] - 2s 6ms/step - loss: 0.5266\n",
            "Epoch 22/100\n",
            "250/250 [==============================] - 2s 6ms/step - loss: 0.5266\n",
            "Epoch 23/100\n",
            "250/250 [==============================] - 2s 6ms/step - loss: 0.5264\n",
            "Epoch 24/100\n",
            "250/250 [==============================] - 1s 6ms/step - loss: 0.5266\n",
            "Epoch 25/100\n",
            "250/250 [==============================] - 2s 6ms/step - loss: 0.5263\n",
            "Epoch 26/100\n",
            "250/250 [==============================] - 1s 6ms/step - loss: 0.5259\n",
            "Epoch 27/100\n",
            "250/250 [==============================] - 2s 9ms/step - loss: 0.5259\n",
            "Epoch 28/100\n",
            "250/250 [==============================] - 2s 9ms/step - loss: 0.5257\n",
            "Epoch 29/100\n",
            "250/250 [==============================] - 2s 9ms/step - loss: 0.5258\n",
            "Epoch 30/100\n",
            "250/250 [==============================] - 2s 7ms/step - loss: 0.5257\n",
            "Epoch 31/100\n",
            "250/250 [==============================] - 1s 6ms/step - loss: 0.5254\n",
            "Epoch 32/100\n",
            "250/250 [==============================] - 2s 6ms/step - loss: 0.5251\n",
            "Epoch 33/100\n",
            "250/250 [==============================] - 1s 6ms/step - loss: 0.5251\n",
            "Epoch 34/100\n",
            "250/250 [==============================] - 2s 6ms/step - loss: 0.5248\n",
            "Epoch 35/100\n",
            "250/250 [==============================] - 2s 9ms/step - loss: 0.5251\n",
            "Epoch 36/100\n",
            "250/250 [==============================] - 2s 10ms/step - loss: 0.5248\n",
            "Epoch 37/100\n",
            "250/250 [==============================] - 2s 7ms/step - loss: 0.5248\n",
            "Epoch 38/100\n",
            "250/250 [==============================] - 2s 6ms/step - loss: 0.5245\n",
            "Epoch 39/100\n",
            "250/250 [==============================] - 2s 6ms/step - loss: 0.5245\n",
            "Epoch 40/100\n",
            "250/250 [==============================] - 1s 6ms/step - loss: 0.5243\n",
            "Epoch 41/100\n",
            "250/250 [==============================] - 1s 6ms/step - loss: 0.5244\n",
            "Epoch 42/100\n",
            "250/250 [==============================] - 1s 6ms/step - loss: 0.5244\n",
            "Epoch 43/100\n",
            "250/250 [==============================] - 2s 6ms/step - loss: 0.5238\n",
            "Epoch 44/100\n",
            "250/250 [==============================] - 2s 9ms/step - loss: 0.5244\n",
            "Epoch 45/100\n",
            "250/250 [==============================] - 2s 9ms/step - loss: 0.5239\n",
            "Epoch 46/100\n",
            "250/250 [==============================] - 1s 6ms/step - loss: 0.5236\n",
            "Epoch 47/100\n",
            "250/250 [==============================] - 1s 6ms/step - loss: 0.5237\n",
            "Epoch 48/100\n",
            "250/250 [==============================] - 1s 6ms/step - loss: 0.5239\n",
            "Epoch 49/100\n",
            "250/250 [==============================] - 1s 6ms/step - loss: 0.5232\n",
            "Epoch 50/100\n",
            "250/250 [==============================] - 1s 6ms/step - loss: 0.5229\n",
            "Epoch 51/100\n",
            "250/250 [==============================] - 2s 6ms/step - loss: 0.5230\n",
            "Epoch 52/100\n",
            "250/250 [==============================] - 2s 7ms/step - loss: 0.5229\n",
            "Epoch 53/100\n",
            "250/250 [==============================] - 2s 9ms/step - loss: 0.5230\n",
            "Epoch 54/100\n",
            "250/250 [==============================] - 2s 9ms/step - loss: 0.5227\n",
            "Epoch 55/100\n",
            "250/250 [==============================] - 1s 6ms/step - loss: 0.5228\n",
            "Epoch 56/100\n",
            "250/250 [==============================] - 2s 6ms/step - loss: 0.5237\n",
            "Epoch 57/100\n",
            "250/250 [==============================] - 1s 6ms/step - loss: 0.5229\n",
            "Epoch 58/100\n",
            "250/250 [==============================] - 2s 6ms/step - loss: 0.5233\n",
            "Epoch 59/100\n",
            "250/250 [==============================] - 2s 6ms/step - loss: 0.5222\n",
            "Epoch 60/100\n",
            "250/250 [==============================] - 1s 6ms/step - loss: 0.5221\n",
            "Epoch 61/100\n",
            "250/250 [==============================] - 2s 8ms/step - loss: 0.5223\n",
            "Epoch 62/100\n",
            "250/250 [==============================] - 2s 10ms/step - loss: 0.5227\n",
            "Epoch 63/100\n",
            "250/250 [==============================] - 2s 7ms/step - loss: 0.5221\n",
            "Epoch 64/100\n",
            "250/250 [==============================] - 1s 6ms/step - loss: 0.5223\n",
            "Epoch 65/100\n",
            "250/250 [==============================] - 1s 6ms/step - loss: 0.5221\n",
            "Epoch 66/100\n",
            "250/250 [==============================] - 2s 6ms/step - loss: 0.5222\n",
            "Epoch 67/100\n",
            "250/250 [==============================] - 2s 6ms/step - loss: 0.5220\n",
            "Epoch 68/100\n",
            "250/250 [==============================] - 2s 7ms/step - loss: 0.5217\n",
            "Epoch 69/100\n",
            "250/250 [==============================] - 2s 7ms/step - loss: 0.5220\n",
            "Epoch 70/100\n",
            "250/250 [==============================] - 3s 10ms/step - loss: 0.5219\n",
            "Epoch 71/100\n",
            "250/250 [==============================] - 2s 10ms/step - loss: 0.5223\n",
            "Epoch 72/100\n",
            "250/250 [==============================] - 2s 6ms/step - loss: 0.5212\n",
            "Epoch 73/100\n",
            "250/250 [==============================] - 2s 6ms/step - loss: 0.5213\n",
            "Epoch 74/100\n",
            "250/250 [==============================] - 2s 6ms/step - loss: 0.5215\n",
            "Epoch 75/100\n",
            "250/250 [==============================] - 2s 6ms/step - loss: 0.5212\n",
            "Epoch 76/100\n",
            "250/250 [==============================] - 2s 6ms/step - loss: 0.5210\n",
            "Epoch 77/100\n",
            "250/250 [==============================] - 2s 6ms/step - loss: 0.5212\n",
            "Epoch 78/100\n",
            "250/250 [==============================] - 2s 8ms/step - loss: 0.5216\n",
            "Epoch 79/100\n",
            "250/250 [==============================] - 2s 10ms/step - loss: 0.5221\n",
            "Epoch 80/100\n",
            "250/250 [==============================] - 2s 8ms/step - loss: 0.5211\n",
            "Epoch 81/100\n",
            "250/250 [==============================] - 1s 6ms/step - loss: 0.5210\n",
            "Epoch 82/100\n",
            "250/250 [==============================] - 1s 6ms/step - loss: 0.5210\n",
            "Epoch 83/100\n",
            "250/250 [==============================] - 2s 6ms/step - loss: 0.5209\n",
            "Epoch 84/100\n",
            "250/250 [==============================] - 1s 6ms/step - loss: 0.5210\n",
            "Epoch 85/100\n",
            "250/250 [==============================] - 2s 6ms/step - loss: 0.5207\n",
            "Epoch 86/100\n",
            "250/250 [==============================] - 2s 6ms/step - loss: 0.5203\n",
            "Epoch 87/100\n",
            "250/250 [==============================] - 2s 9ms/step - loss: 0.5203\n",
            "Epoch 88/100\n",
            "250/250 [==============================] - 2s 10ms/step - loss: 0.5202\n",
            "Epoch 89/100\n",
            "250/250 [==============================] - 2s 6ms/step - loss: 0.5208\n",
            "Epoch 90/100\n",
            "250/250 [==============================] - 2s 6ms/step - loss: 0.5203\n",
            "Epoch 91/100\n",
            "250/250 [==============================] - 2s 6ms/step - loss: 0.5205\n",
            "Epoch 92/100\n",
            "250/250 [==============================] - 2s 6ms/step - loss: 0.5215\n",
            "Epoch 93/100\n",
            "250/250 [==============================] - 1s 6ms/step - loss: 0.5202\n",
            "Epoch 94/100\n",
            "250/250 [==============================] - 1s 6ms/step - loss: 0.5210\n",
            "Epoch 95/100\n",
            "250/250 [==============================] - 2s 8ms/step - loss: 0.5205\n",
            "Epoch 96/100\n",
            "250/250 [==============================] - 2s 9ms/step - loss: 0.5200\n",
            "Epoch 97/100\n",
            "250/250 [==============================] - 2s 8ms/step - loss: 0.5203\n",
            "Epoch 98/100\n",
            "250/250 [==============================] - 2s 6ms/step - loss: 0.5201\n",
            "Epoch 99/100\n",
            "250/250 [==============================] - 1s 6ms/step - loss: 0.5205\n",
            "Epoch 100/100\n",
            "250/250 [==============================] - 2s 6ms/step - loss: 0.5204\n"
          ]
        },
        {
          "output_type": "execute_result",
          "data": {
            "text/plain": [
              "<keras.src.callbacks.History at 0x7afd031a2e00>"
            ]
          },
          "metadata": {},
          "execution_count": 16
        }
      ],
      "source": [
        "rnn.fit(X_train, y_train, batch_size = 32, epochs = 100)"
      ]
    },
    {
      "cell_type": "markdown",
      "metadata": {
        "id": "0H0zKKNEBLD5"
      },
      "source": [
        "### Predicting the results of the Test set"
      ]
    },
    {
      "cell_type": "code",
      "execution_count": 17,
      "metadata": {
        "colab": {
          "base_uri": "https://localhost:8080/"
        },
        "id": "IA0yApEmBG1X",
        "outputId": "4e4ef6f8-b6e2-40f2-84a6-3883325aa129"
      },
      "outputs": [
        {
          "output_type": "stream",
          "name": "stdout",
          "text": [
            "63/63 [==============================] - 1s 3ms/step\n",
            "[[456.72 455.58]\n",
            " [454.17 436.21]\n",
            " [456.87 458.28]\n",
            " ...\n",
            " [467.53 465.89]\n",
            " [454.17 451.51]\n",
            " [468.57 467.39]]\n",
            "The R-Squared value is: 0.49479942994172066\n",
            "The Mean Squared Error value is: 145.96725431585202\n",
            "The Root Mean Squared Error value is: 12.081690871556514\n",
            "The Normalize Root Mean Squared Error value is: 17.247238931558204\n",
            "The Mean Absolute Error value is: 2.1347091829144\n"
          ]
        }
      ],
      "source": [
        "from sklearn.metrics import r2_score, mean_squared_error,mean_absolute_percentage_error\n",
        "import math\n",
        "y_pred = sc1.inverse_transform(rnn.predict(X_test))\n",
        "np.set_printoptions(precision=2)\n",
        "\n",
        "maxY=max(y_test)\n",
        "minY=min(y_test)\n",
        "a=maxY-minY\n",
        "\n",
        "\n",
        "print(np.concatenate((y_pred.reshape(len(y_pred),1), y_test.reshape(len(y_test),1)),1))\n",
        "print (\"The R-Squared value is: \"+str(r2_score(y_test, y_pred)))\n",
        "print (\"The Mean Squared Error value is: \"+str(mean_squared_error(y_test, y_pred)))\n",
        "print (\"The Root Mean Squared Error value is: \"+str(math.sqrt(mean_squared_error(y_test, y_pred))))\n",
        "print (\"The Normalize Root Mean Squared Error value is: \"+str(math.sqrt(mean_squared_error(y_test, y_pred))/(a)*100))\n",
        "print (\"The Mean Absolute Error value is: \"+str(mean_absolute_percentage_error(y_test, y_pred)*100))\n"
      ]
    }
  ],
  "metadata": {
    "colab": {
      "provenance": []
    },
    "kernelspec": {
      "display_name": "Python 3",
      "name": "python3"
    }
  },
  "nbformat": 4,
  "nbformat_minor": 0
}