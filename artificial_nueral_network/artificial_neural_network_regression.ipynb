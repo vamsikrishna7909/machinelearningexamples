{
  "nbformat": 4,
  "nbformat_minor": 0,
  "metadata": {
    "colab": {
      "provenance": []
    },
    "kernelspec": {
      "name": "python3",
      "display_name": "Python 3"
    }
  },
  "cells": [
    {
      "cell_type": "markdown",
      "metadata": {
        "id": "3cbb7fRy-eyr"
      },
      "source": [
        "# Artificial Neural Network"
      ]
    },
    {
      "cell_type": "markdown",
      "metadata": {
        "id": "8sNDnxE2-pwE"
      },
      "source": [
        "### Importing the libraries"
      ]
    },
    {
      "cell_type": "code",
      "metadata": {
        "id": "lxChR1Rk-umf"
      },
      "source": [
        "import numpy as np\n",
        "import pandas as pd\n",
        "import tensorflow as tf"
      ],
      "execution_count": 51,
      "outputs": []
    },
    {
      "cell_type": "markdown",
      "metadata": {
        "id": "AG3FQEch-yuA"
      },
      "source": [
        "## Part 1 - Data Preprocessing"
      ]
    },
    {
      "cell_type": "markdown",
      "metadata": {
        "id": "-4zq8Mza_D9O"
      },
      "source": [
        "### Importing the dataset"
      ]
    },
    {
      "cell_type": "code",
      "metadata": {
        "id": "B9CV13Co_HHM"
      },
      "source": [
        "dataset = pd.read_excel('Data.xlsx')\n",
        "X = dataset.iloc[:, :-1].values\n",
        "y = dataset.iloc[:, -1].values"
      ],
      "execution_count": 52,
      "outputs": []
    },
    {
      "cell_type": "markdown",
      "metadata": {
        "id": "VC6omXel_Up0"
      },
      "source": [
        "### Splitting the dataset into the Training set and Test set"
      ]
    },
    {
      "cell_type": "code",
      "metadata": {
        "id": "L5edeb2r_agx"
      },
      "source": [
        "from sklearn.model_selection import train_test_split\n",
        "X_train, X_test, y_train, y_test = train_test_split(X, y, test_size = 0.2, random_state = 0)"
      ],
      "execution_count": 53,
      "outputs": []
    },
    {
      "cell_type": "code",
      "source": [
        "print(X_train)\n",
        "print(y_train)"
      ],
      "metadata": {
        "colab": {
          "base_uri": "https://localhost:8080/"
        },
        "id": "MWxRDYpwu81l",
        "outputId": "7de6668f-577c-47bd-b3f8-b18e330c67ab"
      },
      "execution_count": 54,
      "outputs": [
        {
          "output_type": "stream",
          "name": "stdout",
          "text": [
            "[[  11.22   43.13 1017.24   80.9 ]\n",
            " [  13.67   54.3  1015.92   75.42]\n",
            " [  32.84   77.95 1014.68   45.8 ]\n",
            " ...\n",
            " [  16.81   38.52 1018.26   75.21]\n",
            " [  12.8    41.16 1022.43   86.19]\n",
            " [  32.32   67.9  1006.08   37.93]]\n",
            "[473.93 467.87 431.97 ... 459.01 462.72 428.12]\n"
          ]
        }
      ]
    },
    {
      "cell_type": "markdown",
      "source": [
        "##Feature Scaling"
      ],
      "metadata": {
        "id": "3tDViTEasrlG"
      }
    },
    {
      "cell_type": "code",
      "source": [
        "from sklearn.preprocessing import StandardScaler\n",
        "sc = StandardScaler()\n",
        "X_train = sc.fit_transform(X_train)\n",
        "X_test = sc.transform(X_test)"
      ],
      "metadata": {
        "id": "RElVNX78xOhX"
      },
      "execution_count": 55,
      "outputs": []
    },
    {
      "cell_type": "code",
      "source": [
        "print(y_train.reshape(-1,1))\n",
        "print(y_test.reshape(-1,1))\n"
      ],
      "metadata": {
        "colab": {
          "base_uri": "https://localhost:8080/"
        },
        "id": "Wl15NIWVy5Do",
        "outputId": "19ae468b-1e63-4121-945c-3b9fee9cb9bd"
      },
      "execution_count": 56,
      "outputs": [
        {
          "output_type": "stream",
          "name": "stdout",
          "text": [
            "[[473.93]\n",
            " [467.87]\n",
            " [431.97]\n",
            " ...\n",
            " [459.01]\n",
            " [462.72]\n",
            " [428.12]]\n",
            "[[431.23]\n",
            " [460.01]\n",
            " [461.14]\n",
            " ...\n",
            " [473.26]\n",
            " [438.  ]\n",
            " [463.28]]\n"
          ]
        }
      ]
    },
    {
      "cell_type": "code",
      "source": [
        "sc1 = StandardScaler()\n",
        "y_train = sc1.fit_transform(y_train.reshape(-1,1))\n"
      ],
      "metadata": {
        "id": "w3FvNqbAs0zk"
      },
      "execution_count": 57,
      "outputs": []
    },
    {
      "cell_type": "markdown",
      "metadata": {
        "id": "_mSLlAT9_eyI"
      },
      "source": [
        "## Part 2 - Building the ANN"
      ]
    },
    {
      "cell_type": "markdown",
      "metadata": {
        "id": "CsBULd_f_wLY"
      },
      "source": [
        "### Initializing the ANN"
      ]
    },
    {
      "cell_type": "code",
      "metadata": {
        "id": "J6Hd97Ls__Nz"
      },
      "source": [
        "ann = tf.keras.models.Sequential()"
      ],
      "execution_count": 58,
      "outputs": []
    },
    {
      "cell_type": "markdown",
      "metadata": {
        "id": "iitAFJS_ABUn"
      },
      "source": [
        "### Adding the input layer and the first hidden layer"
      ]
    },
    {
      "cell_type": "code",
      "metadata": {
        "id": "ksO_Vv40AHix"
      },
      "source": [
        "ann.add(tf.keras.layers.Dense(units=6, activation='relu'))"
      ],
      "execution_count": 59,
      "outputs": []
    },
    {
      "cell_type": "markdown",
      "metadata": {
        "id": "-lb4kK_wAKbs"
      },
      "source": [
        "### Adding the second hidden layer"
      ]
    },
    {
      "cell_type": "code",
      "metadata": {
        "id": "c2357OqEAQOQ"
      },
      "source": [
        "ann.add(tf.keras.layers.Dense(units=6, activation='relu'))"
      ],
      "execution_count": 60,
      "outputs": []
    },
    {
      "cell_type": "markdown",
      "metadata": {
        "id": "jwMOmKb3AdBY"
      },
      "source": [
        "### Adding the output layer"
      ]
    },
    {
      "cell_type": "code",
      "metadata": {
        "id": "YFATpzsUAkLL"
      },
      "source": [
        "ann.add(tf.keras.layers.Dense(units=1))"
      ],
      "execution_count": 61,
      "outputs": []
    },
    {
      "cell_type": "markdown",
      "metadata": {
        "id": "fq7e4fF6A1yy"
      },
      "source": [
        "## Part 3 - Training the ANN"
      ]
    },
    {
      "cell_type": "markdown",
      "metadata": {
        "id": "qDeylAs2An25"
      },
      "source": [
        "### Compiling the ANN"
      ]
    },
    {
      "cell_type": "code",
      "metadata": {
        "id": "pesgbWlCAtB4"
      },
      "source": [
        "ann.compile(optimizer = 'adam', loss = 'mean_squared_error')"
      ],
      "execution_count": 62,
      "outputs": []
    },
    {
      "cell_type": "markdown",
      "metadata": {
        "id": "YjVuiybYOo7r"
      },
      "source": [
        "### Training the ANN model on the Training set"
      ]
    },
    {
      "cell_type": "code",
      "metadata": {
        "id": "c_vV-tiiA5zn",
        "colab": {
          "base_uri": "https://localhost:8080/"
        },
        "outputId": "e806bde5-d65a-4c4c-ac1d-880a13b464d9"
      },
      "source": [
        "ann.fit(X_train, y_train, batch_size = 32, epochs = 100)"
      ],
      "execution_count": 63,
      "outputs": [
        {
          "output_type": "stream",
          "name": "stdout",
          "text": [
            "Epoch 1/100\n",
            "240/240 [==============================] - 1s 2ms/step - loss: 0.2788\n",
            "Epoch 2/100\n",
            "240/240 [==============================] - 0s 2ms/step - loss: 0.0893\n",
            "Epoch 3/100\n",
            "240/240 [==============================] - 0s 2ms/step - loss: 0.0741\n",
            "Epoch 4/100\n",
            "240/240 [==============================] - 0s 2ms/step - loss: 0.0696\n",
            "Epoch 5/100\n",
            "240/240 [==============================] - 0s 2ms/step - loss: 0.0676\n",
            "Epoch 6/100\n",
            "240/240 [==============================] - 0s 2ms/step - loss: 0.0666\n",
            "Epoch 7/100\n",
            "240/240 [==============================] - 0s 2ms/step - loss: 0.0660\n",
            "Epoch 8/100\n",
            "240/240 [==============================] - 0s 2ms/step - loss: 0.0653\n",
            "Epoch 9/100\n",
            "240/240 [==============================] - 0s 2ms/step - loss: 0.0651\n",
            "Epoch 10/100\n",
            "240/240 [==============================] - 0s 2ms/step - loss: 0.0647\n",
            "Epoch 11/100\n",
            "240/240 [==============================] - 0s 2ms/step - loss: 0.0644\n",
            "Epoch 12/100\n",
            "240/240 [==============================] - 0s 2ms/step - loss: 0.0638\n",
            "Epoch 13/100\n",
            "240/240 [==============================] - 0s 2ms/step - loss: 0.0633\n",
            "Epoch 14/100\n",
            "240/240 [==============================] - 0s 2ms/step - loss: 0.0632\n",
            "Epoch 15/100\n",
            "240/240 [==============================] - 0s 2ms/step - loss: 0.0629\n",
            "Epoch 16/100\n",
            "240/240 [==============================] - 0s 2ms/step - loss: 0.0627\n",
            "Epoch 17/100\n",
            "240/240 [==============================] - 0s 2ms/step - loss: 0.0621\n",
            "Epoch 18/100\n",
            "240/240 [==============================] - 0s 2ms/step - loss: 0.0621\n",
            "Epoch 19/100\n",
            "240/240 [==============================] - 0s 2ms/step - loss: 0.0619\n",
            "Epoch 20/100\n",
            "240/240 [==============================] - 1s 3ms/step - loss: 0.0621\n",
            "Epoch 21/100\n",
            "240/240 [==============================] - 1s 2ms/step - loss: 0.0620\n",
            "Epoch 22/100\n",
            "240/240 [==============================] - 1s 3ms/step - loss: 0.0618\n",
            "Epoch 23/100\n",
            "240/240 [==============================] - 1s 3ms/step - loss: 0.0619\n",
            "Epoch 24/100\n",
            "240/240 [==============================] - 1s 3ms/step - loss: 0.0617\n",
            "Epoch 25/100\n",
            "240/240 [==============================] - 1s 3ms/step - loss: 0.0616\n",
            "Epoch 26/100\n",
            "240/240 [==============================] - 1s 3ms/step - loss: 0.0616\n",
            "Epoch 27/100\n",
            "240/240 [==============================] - 1s 3ms/step - loss: 0.0616\n",
            "Epoch 28/100\n",
            "240/240 [==============================] - 0s 2ms/step - loss: 0.0615\n",
            "Epoch 29/100\n",
            "240/240 [==============================] - 0s 2ms/step - loss: 0.0616\n",
            "Epoch 30/100\n",
            "240/240 [==============================] - 0s 2ms/step - loss: 0.0616\n",
            "Epoch 31/100\n",
            "240/240 [==============================] - 0s 2ms/step - loss: 0.0615\n",
            "Epoch 32/100\n",
            "240/240 [==============================] - 0s 2ms/step - loss: 0.0612\n",
            "Epoch 33/100\n",
            "240/240 [==============================] - 0s 2ms/step - loss: 0.0613\n",
            "Epoch 34/100\n",
            "240/240 [==============================] - 0s 2ms/step - loss: 0.0611\n",
            "Epoch 35/100\n",
            "240/240 [==============================] - 0s 2ms/step - loss: 0.0613\n",
            "Epoch 36/100\n",
            "240/240 [==============================] - 0s 2ms/step - loss: 0.0614\n",
            "Epoch 37/100\n",
            "240/240 [==============================] - 0s 2ms/step - loss: 0.0613\n",
            "Epoch 38/100\n",
            "240/240 [==============================] - 0s 2ms/step - loss: 0.0618\n",
            "Epoch 39/100\n",
            "240/240 [==============================] - 0s 2ms/step - loss: 0.0613\n",
            "Epoch 40/100\n",
            "240/240 [==============================] - 0s 2ms/step - loss: 0.0612\n",
            "Epoch 41/100\n",
            "240/240 [==============================] - 0s 2ms/step - loss: 0.0610\n",
            "Epoch 42/100\n",
            "240/240 [==============================] - 0s 2ms/step - loss: 0.0612\n",
            "Epoch 43/100\n",
            "240/240 [==============================] - 0s 2ms/step - loss: 0.0613\n",
            "Epoch 44/100\n",
            "240/240 [==============================] - 0s 2ms/step - loss: 0.0612\n",
            "Epoch 45/100\n",
            "240/240 [==============================] - 0s 2ms/step - loss: 0.0610\n",
            "Epoch 46/100\n",
            "240/240 [==============================] - 0s 2ms/step - loss: 0.0610\n",
            "Epoch 47/100\n",
            "240/240 [==============================] - 0s 2ms/step - loss: 0.0610\n",
            "Epoch 48/100\n",
            "240/240 [==============================] - 0s 2ms/step - loss: 0.0610\n",
            "Epoch 49/100\n",
            "240/240 [==============================] - 1s 2ms/step - loss: 0.0609\n",
            "Epoch 50/100\n",
            "240/240 [==============================] - 1s 3ms/step - loss: 0.0609\n",
            "Epoch 51/100\n",
            "240/240 [==============================] - 1s 3ms/step - loss: 0.0610\n",
            "Epoch 52/100\n",
            "240/240 [==============================] - 1s 3ms/step - loss: 0.0608\n",
            "Epoch 53/100\n",
            "240/240 [==============================] - 1s 3ms/step - loss: 0.0607\n",
            "Epoch 54/100\n",
            "240/240 [==============================] - 1s 2ms/step - loss: 0.0608\n",
            "Epoch 55/100\n",
            "240/240 [==============================] - 1s 3ms/step - loss: 0.0610\n",
            "Epoch 56/100\n",
            "240/240 [==============================] - 1s 2ms/step - loss: 0.0607\n",
            "Epoch 57/100\n",
            "240/240 [==============================] - 1s 3ms/step - loss: 0.0609\n",
            "Epoch 58/100\n",
            "240/240 [==============================] - 0s 2ms/step - loss: 0.0607\n",
            "Epoch 59/100\n",
            "240/240 [==============================] - 0s 2ms/step - loss: 0.0606\n",
            "Epoch 60/100\n",
            "240/240 [==============================] - 0s 2ms/step - loss: 0.0606\n",
            "Epoch 61/100\n",
            "240/240 [==============================] - 0s 2ms/step - loss: 0.0606\n",
            "Epoch 62/100\n",
            "240/240 [==============================] - 0s 2ms/step - loss: 0.0607\n",
            "Epoch 63/100\n",
            "240/240 [==============================] - 0s 2ms/step - loss: 0.0608\n",
            "Epoch 64/100\n",
            "240/240 [==============================] - 0s 2ms/step - loss: 0.0607\n",
            "Epoch 65/100\n",
            "240/240 [==============================] - 0s 2ms/step - loss: 0.0604\n",
            "Epoch 66/100\n",
            "240/240 [==============================] - 0s 2ms/step - loss: 0.0604\n",
            "Epoch 67/100\n",
            "240/240 [==============================] - 0s 2ms/step - loss: 0.0603\n",
            "Epoch 68/100\n",
            "240/240 [==============================] - 0s 2ms/step - loss: 0.0604\n",
            "Epoch 69/100\n",
            "240/240 [==============================] - 0s 2ms/step - loss: 0.0604\n",
            "Epoch 70/100\n",
            "240/240 [==============================] - 0s 2ms/step - loss: 0.0605\n",
            "Epoch 71/100\n",
            "240/240 [==============================] - 0s 2ms/step - loss: 0.0603\n",
            "Epoch 72/100\n",
            "240/240 [==============================] - 0s 2ms/step - loss: 0.0603\n",
            "Epoch 73/100\n",
            "240/240 [==============================] - 0s 2ms/step - loss: 0.0601\n",
            "Epoch 74/100\n",
            "240/240 [==============================] - 0s 2ms/step - loss: 0.0603\n",
            "Epoch 75/100\n",
            "240/240 [==============================] - 0s 2ms/step - loss: 0.0602\n",
            "Epoch 76/100\n",
            "240/240 [==============================] - 0s 2ms/step - loss: 0.0602\n",
            "Epoch 77/100\n",
            "240/240 [==============================] - 0s 2ms/step - loss: 0.0602\n",
            "Epoch 78/100\n",
            "240/240 [==============================] - 1s 2ms/step - loss: 0.0603\n",
            "Epoch 79/100\n",
            "240/240 [==============================] - 1s 3ms/step - loss: 0.0603\n",
            "Epoch 80/100\n",
            "240/240 [==============================] - 1s 3ms/step - loss: 0.0601\n",
            "Epoch 81/100\n",
            "240/240 [==============================] - 1s 3ms/step - loss: 0.0602\n",
            "Epoch 82/100\n",
            "240/240 [==============================] - 1s 3ms/step - loss: 0.0601\n",
            "Epoch 83/100\n",
            "240/240 [==============================] - 1s 2ms/step - loss: 0.0600\n",
            "Epoch 84/100\n",
            "240/240 [==============================] - 1s 2ms/step - loss: 0.0602\n",
            "Epoch 85/100\n",
            "240/240 [==============================] - 1s 3ms/step - loss: 0.0601\n",
            "Epoch 86/100\n",
            "240/240 [==============================] - 1s 2ms/step - loss: 0.0600\n",
            "Epoch 87/100\n",
            "240/240 [==============================] - 0s 2ms/step - loss: 0.0601\n",
            "Epoch 88/100\n",
            "240/240 [==============================] - 0s 2ms/step - loss: 0.0602\n",
            "Epoch 89/100\n",
            "240/240 [==============================] - 0s 2ms/step - loss: 0.0601\n",
            "Epoch 90/100\n",
            "240/240 [==============================] - 0s 2ms/step - loss: 0.0599\n",
            "Epoch 91/100\n",
            "240/240 [==============================] - 0s 2ms/step - loss: 0.0600\n",
            "Epoch 92/100\n",
            "240/240 [==============================] - 0s 2ms/step - loss: 0.0600\n",
            "Epoch 93/100\n",
            "240/240 [==============================] - 0s 2ms/step - loss: 0.0600\n",
            "Epoch 94/100\n",
            "240/240 [==============================] - 0s 2ms/step - loss: 0.0598\n",
            "Epoch 95/100\n",
            "240/240 [==============================] - 0s 2ms/step - loss: 0.0599\n",
            "Epoch 96/100\n",
            "240/240 [==============================] - 0s 2ms/step - loss: 0.0601\n",
            "Epoch 97/100\n",
            "240/240 [==============================] - 0s 2ms/step - loss: 0.0598\n",
            "Epoch 98/100\n",
            "240/240 [==============================] - 0s 2ms/step - loss: 0.0596\n",
            "Epoch 99/100\n",
            "240/240 [==============================] - 0s 2ms/step - loss: 0.0598\n",
            "Epoch 100/100\n",
            "240/240 [==============================] - 0s 2ms/step - loss: 0.0598\n"
          ]
        },
        {
          "output_type": "execute_result",
          "data": {
            "text/plain": [
              "<keras.src.callbacks.History at 0x7cd0a8c37700>"
            ]
          },
          "metadata": {},
          "execution_count": 63
        }
      ]
    },
    {
      "cell_type": "markdown",
      "metadata": {
        "id": "0H0zKKNEBLD5"
      },
      "source": [
        "### Predicting the results of the Test set"
      ]
    },
    {
      "cell_type": "code",
      "metadata": {
        "id": "IA0yApEmBG1X",
        "colab": {
          "base_uri": "https://localhost:8080/"
        },
        "outputId": "5aea4eb3-292b-4378-f8ba-f971cdffd1b4"
      },
      "source": [
        "from sklearn.metrics import r2_score, mean_squared_error,mean_absolute_percentage_error\n",
        "import math\n",
        "\n",
        "y_pred = sc1.inverse_transform(ann.predict(X_test))\n",
        "np.set_printoptions(precision=2)\n",
        "\n",
        "maxY=max(y_test)\n",
        "minY=min(y_test)\n",
        "a=maxY-minY\n",
        "print(a)\n",
        "\n",
        "print(np.concatenate((y_pred.reshape(len(y_pred),1), y_test.reshape(len(y_test),1)),1))\n",
        "print (\"The R-Squared value is: \"+str(r2_score(y_test, y_pred)))\n",
        "print (\"The Mean Squared Error value is: \"+str(mean_squared_error(y_test, y_pred)))\n",
        "print (\"The Root Mean Squared Error value is: \"+str(math.sqrt(mean_squared_error(y_test, y_pred))))\n",
        "print (\"The Normalize Root Mean Squared Error value is: \"+str(math.sqrt(mean_squared_error(y_test, y_pred))/(a)*100))\n",
        "print (\"The Mean Absolute Error value is: \"+str(mean_absolute_percentage_error(y_test, y_pred)*100))\n"
      ],
      "execution_count": 72,
      "outputs": [
        {
          "output_type": "stream",
          "name": "stdout",
          "text": [
            "60/60 [==============================] - 0s 1ms/step\n",
            "69.54999999999995\n",
            "[[432.98 431.23]\n",
            " [458.33 460.01]\n",
            " [463.04 461.14]\n",
            " ...\n",
            " [468.26 473.26]\n",
            " [440.54 438.  ]\n",
            " [461.43 463.28]]\n",
            "The R-Squared value is: 0.9450465922973981\n",
            "The Mean Squared Error value is: 16.073203272412695\n",
            "The Root Mean Squared Error value is: 4.009139966677728\n",
            "The Normalize Root Mean Squared Error value is: 5.764399664525853\n",
            "The Mean Absolute Error value is: 0.6970289734325141\n"
          ]
        }
      ]
    }
  ]
}