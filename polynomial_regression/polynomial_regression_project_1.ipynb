{
  "nbformat": 4,
  "nbformat_minor": 0,
  "metadata": {
    "colab": {
      "provenance": []
    },
    "kernelspec": {
      "name": "python3",
      "display_name": "Python 3"
    }
  },
  "cells": [
    {
      "cell_type": "markdown",
      "metadata": {
        "id": "vN99YjPTDena"
      },
      "source": [
        "# Polynomial Regression"
      ]
    },
    {
      "cell_type": "markdown",
      "source": [
        "Mounting a Google Drive"
      ],
      "metadata": {
        "id": "HBYud4vrZhcj"
      }
    },
    {
      "cell_type": "code",
      "source": [
        "from google.colab import drive\n",
        "drive.mount('/content/drive/')"
      ],
      "metadata": {
        "colab": {
          "base_uri": "https://localhost:8080/"
        },
        "id": "nw_xGwj1Zk2c",
        "outputId": "3627532d-debe-403c-b13c-053489929a06"
      },
      "execution_count": null,
      "outputs": [
        {
          "output_type": "stream",
          "name": "stdout",
          "text": [
            "Drive already mounted at /content/drive/; to attempt to forcibly remount, call drive.mount(\"/content/drive/\", force_remount=True).\n"
          ]
        }
      ]
    },
    {
      "cell_type": "markdown",
      "metadata": {
        "id": "ZIx_naXnDyHd"
      },
      "source": [
        "## Importing the libraries"
      ]
    },
    {
      "cell_type": "code",
      "metadata": {
        "id": "FjnmdyPLD2tS"
      },
      "source": [
        "import numpy as np\n",
        "import matplotlib.pyplot as plt\n",
        "import pandas as pd"
      ],
      "execution_count": null,
      "outputs": []
    },
    {
      "cell_type": "markdown",
      "metadata": {
        "id": "6c8YExmOD5x5"
      },
      "source": [
        "## Importing the dataset"
      ]
    },
    {
      "cell_type": "code",
      "metadata": {
        "id": "nQOdXhjXD_AE",
        "colab": {
          "base_uri": "https://localhost:8080/"
        },
        "outputId": "f243f0c2-344b-4d0e-a433-0ece0326159f"
      },
      "source": [
        "dataset = pd.read_csv('/content/drive/MyDrive/Colab Notebooks/RealEstateDataset.csv')\n",
        "X = dataset.iloc[:, 1:7].values\n",
        "y = dataset.iloc[:, -1].values\n",
        "print(X)"
      ],
      "execution_count": null,
      "outputs": [
        {
          "output_type": "stream",
          "name": "stdout",
          "text": [
            "[[2012.92   32.     84.88   10.     24.98  121.54]\n",
            " [2012.92   19.5   306.59    9.     24.98  121.54]\n",
            " [2013.58   13.3   561.98    5.     24.99  121.54]\n",
            " ...\n",
            " [2013.25   18.8   390.97    7.     24.98  121.54]\n",
            " [2013.      8.1   104.81    5.     24.97  121.54]\n",
            " [2013.5     6.5    90.46    9.     24.97  121.54]]\n"
          ]
        }
      ]
    },
    {
      "cell_type": "code",
      "source": [
        "print(y)"
      ],
      "metadata": {
        "colab": {
          "base_uri": "https://localhost:8080/"
        },
        "id": "qPO9G7rXaA2F",
        "outputId": "5182854d-2a1e-4409-a126-fa8f8625b644"
      },
      "execution_count": null,
      "outputs": [
        {
          "output_type": "stream",
          "name": "stdout",
          "text": [
            "[ 37.9  42.2  47.3  54.8  43.1  32.1  40.3  46.7  18.8  22.1  41.4  58.1\n",
            "  39.3  23.8  34.3  50.5  70.1  37.4  42.3  47.7  29.3  51.6  24.6  47.9\n",
            "  38.8  27.   56.2  33.6  47.   57.1  22.1  25.   34.2  49.3  55.1  27.3\n",
            "  22.9  25.3  47.7  46.2  15.9  18.2  34.7  34.1  53.9  38.3  42.   61.5\n",
            "  13.4  13.2  44.2  20.7  27.   38.9  51.7  13.7  41.9  53.5  22.6  42.4\n",
            "  21.3  63.2  27.7  55.   25.3  44.3  50.7  56.8  36.2  42.   59.   40.8\n",
            "  36.3  20.   54.4  29.5  36.8  25.6  29.8  26.5  40.3  36.8  48.1  17.7\n",
            "  43.7  50.8  27.   18.3  48.   25.3  45.4  43.2  21.8  16.1  41.   51.8\n",
            "  59.5  34.6  51.   62.2  38.2  32.9  54.4  45.7  30.5  71.   47.1  26.6\n",
            "  34.1  28.4  51.6  39.4  23.1   7.6  53.3  46.4  12.2  13.   30.6  59.6\n",
            "  31.3  48.   32.5  45.5  57.4  48.6  62.9  55.   60.7  41.   37.5  30.7\n",
            "  37.5  39.5  42.2  20.8  46.8  47.4  43.5  42.5  51.4  28.9  37.5  40.1\n",
            "  28.4  45.5  52.2  43.2  45.1  39.7  48.5  44.7  28.9  40.9  20.7  15.6\n",
            "  18.3  35.6  39.4  37.4  57.8  39.6  11.6  55.5  55.2  30.6  73.6  43.4\n",
            "  37.4  23.5  14.4  58.8  58.1  35.1  45.2  36.5  19.2  42.   36.7  42.6\n",
            "  15.5  55.9  23.6  18.8  21.8  21.5  25.7  22.   44.3  20.5  42.3  37.8\n",
            "  42.7  49.3  29.3  34.6  36.6  48.2  39.1  31.6  25.5  45.9  31.5  46.1\n",
            "  26.6  21.4  44.   34.2  26.2  40.9  52.2  43.5  31.1  58.   20.9  48.1\n",
            "  39.7  40.8  43.8  40.2  78.3  38.5  48.5  42.3  46.   49.   12.8  40.2\n",
            "  46.6  19.   33.4  14.7  17.4  32.4  23.9  39.3  61.9  39.   40.6  29.7\n",
            "  28.8  41.4  33.4  48.2  21.7  40.8  40.6  23.1  22.3  15.   30.   13.8\n",
            "  52.7  25.9  51.8  17.4  26.5  43.9  63.3  28.8  30.7  24.4  53.   31.7\n",
            "  40.6  38.1  23.7  41.1  40.1  23.  117.5  26.5  40.5  29.3  41.   49.7\n",
            "  34.   27.7  44.   31.1  45.4  44.8  25.6  23.5  34.4  55.3  56.3  32.9\n",
            "  51.   44.5  37.   54.4  24.5  42.5  38.1  21.8  34.1  28.5  16.7  46.1\n",
            "  36.9  35.7  23.2  38.4  29.4  55.   50.2  24.7  53.   19.1  24.7  42.2\n",
            "  78.   42.8  41.6  27.3  42.   37.5  49.8  26.9  18.6  37.7  33.1  42.5\n",
            "  31.3  38.1  62.1  36.7  23.6  19.2  12.8  15.6  39.6  38.4  22.8  36.5\n",
            "  35.6  30.9  36.3  50.4  42.9  37.   53.5  46.6  41.2  37.9  30.8  11.2\n",
            "  53.7  47.   42.3  28.6  25.7  31.3  30.1  60.7  45.3  44.9  45.1  24.7\n",
            "  47.1  63.3  40.   48.   33.1  29.5  24.8  20.9  43.1  22.8  42.1  51.7\n",
            "  41.5  52.2  49.5  23.8  30.5  56.8  37.4  69.7  53.3  47.3  29.3  40.3\n",
            "  12.9  46.6  55.3  25.6  27.3  67.7  38.6  31.3  35.3  40.3  24.7  42.5\n",
            "  31.9  32.2  23.   37.3  35.5  27.7  28.5  39.7  41.2  37.2  40.5  22.3\n",
            "  28.1  15.4  50.   40.6  52.5  63.9]\n"
          ]
        }
      ]
    },
    {
      "cell_type": "markdown",
      "metadata": {
        "id": "Ud_1XTb28iXH"
      },
      "source": [
        "## Splitting the dataset into the Training set and Test set"
      ]
    },
    {
      "cell_type": "code",
      "metadata": {
        "id": "bUib_pbl8ipB"
      },
      "source": [
        "from sklearn.model_selection import train_test_split\n",
        "X_train, X_test, y_train, y_test = train_test_split(X, y, test_size = 0.2, random_state = 0)"
      ],
      "execution_count": null,
      "outputs": []
    },
    {
      "cell_type": "markdown",
      "metadata": {
        "id": "Rb5nWuSHEfBV"
      },
      "source": [
        "## Training the Polynomial Regression model on the Training set"
      ]
    },
    {
      "cell_type": "code",
      "metadata": {
        "id": "HYplp4pTEm0O",
        "colab": {
          "base_uri": "https://localhost:8080/",
          "height": 75
        },
        "outputId": "a14afa54-1359-4caa-bc64-916c90ba79c9"
      },
      "source": [
        "from sklearn.preprocessing import PolynomialFeatures\n",
        "from sklearn.linear_model import LinearRegression\n",
        "poly_reg = PolynomialFeatures(degree = 3)\n",
        "X_poly = poly_reg.fit_transform(X_train)\n",
        "regressor = LinearRegression()\n",
        "regressor.fit(X_poly, y_train)"
      ],
      "execution_count": null,
      "outputs": [
        {
          "output_type": "execute_result",
          "data": {
            "text/plain": [
              "LinearRegression()"
            ],
            "text/html": [
              "<style>#sk-container-id-5 {color: black;background-color: white;}#sk-container-id-5 pre{padding: 0;}#sk-container-id-5 div.sk-toggleable {background-color: white;}#sk-container-id-5 label.sk-toggleable__label {cursor: pointer;display: block;width: 100%;margin-bottom: 0;padding: 0.3em;box-sizing: border-box;text-align: center;}#sk-container-id-5 label.sk-toggleable__label-arrow:before {content: \"▸\";float: left;margin-right: 0.25em;color: #696969;}#sk-container-id-5 label.sk-toggleable__label-arrow:hover:before {color: black;}#sk-container-id-5 div.sk-estimator:hover label.sk-toggleable__label-arrow:before {color: black;}#sk-container-id-5 div.sk-toggleable__content {max-height: 0;max-width: 0;overflow: hidden;text-align: left;background-color: #f0f8ff;}#sk-container-id-5 div.sk-toggleable__content pre {margin: 0.2em;color: black;border-radius: 0.25em;background-color: #f0f8ff;}#sk-container-id-5 input.sk-toggleable__control:checked~div.sk-toggleable__content {max-height: 200px;max-width: 100%;overflow: auto;}#sk-container-id-5 input.sk-toggleable__control:checked~label.sk-toggleable__label-arrow:before {content: \"▾\";}#sk-container-id-5 div.sk-estimator input.sk-toggleable__control:checked~label.sk-toggleable__label {background-color: #d4ebff;}#sk-container-id-5 div.sk-label input.sk-toggleable__control:checked~label.sk-toggleable__label {background-color: #d4ebff;}#sk-container-id-5 input.sk-hidden--visually {border: 0;clip: rect(1px 1px 1px 1px);clip: rect(1px, 1px, 1px, 1px);height: 1px;margin: -1px;overflow: hidden;padding: 0;position: absolute;width: 1px;}#sk-container-id-5 div.sk-estimator {font-family: monospace;background-color: #f0f8ff;border: 1px dotted black;border-radius: 0.25em;box-sizing: border-box;margin-bottom: 0.5em;}#sk-container-id-5 div.sk-estimator:hover {background-color: #d4ebff;}#sk-container-id-5 div.sk-parallel-item::after {content: \"\";width: 100%;border-bottom: 1px solid gray;flex-grow: 1;}#sk-container-id-5 div.sk-label:hover label.sk-toggleable__label {background-color: #d4ebff;}#sk-container-id-5 div.sk-serial::before {content: \"\";position: absolute;border-left: 1px solid gray;box-sizing: border-box;top: 0;bottom: 0;left: 50%;z-index: 0;}#sk-container-id-5 div.sk-serial {display: flex;flex-direction: column;align-items: center;background-color: white;padding-right: 0.2em;padding-left: 0.2em;position: relative;}#sk-container-id-5 div.sk-item {position: relative;z-index: 1;}#sk-container-id-5 div.sk-parallel {display: flex;align-items: stretch;justify-content: center;background-color: white;position: relative;}#sk-container-id-5 div.sk-item::before, #sk-container-id-5 div.sk-parallel-item::before {content: \"\";position: absolute;border-left: 1px solid gray;box-sizing: border-box;top: 0;bottom: 0;left: 50%;z-index: -1;}#sk-container-id-5 div.sk-parallel-item {display: flex;flex-direction: column;z-index: 1;position: relative;background-color: white;}#sk-container-id-5 div.sk-parallel-item:first-child::after {align-self: flex-end;width: 50%;}#sk-container-id-5 div.sk-parallel-item:last-child::after {align-self: flex-start;width: 50%;}#sk-container-id-5 div.sk-parallel-item:only-child::after {width: 0;}#sk-container-id-5 div.sk-dashed-wrapped {border: 1px dashed gray;margin: 0 0.4em 0.5em 0.4em;box-sizing: border-box;padding-bottom: 0.4em;background-color: white;}#sk-container-id-5 div.sk-label label {font-family: monospace;font-weight: bold;display: inline-block;line-height: 1.2em;}#sk-container-id-5 div.sk-label-container {text-align: center;}#sk-container-id-5 div.sk-container {/* jupyter's `normalize.less` sets `[hidden] { display: none; }` but bootstrap.min.css set `[hidden] { display: none !important; }` so we also need the `!important` here to be able to override the default hidden behavior on the sphinx rendered scikit-learn.org. See: https://github.com/scikit-learn/scikit-learn/issues/21755 */display: inline-block !important;position: relative;}#sk-container-id-5 div.sk-text-repr-fallback {display: none;}</style><div id=\"sk-container-id-5\" class=\"sk-top-container\"><div class=\"sk-text-repr-fallback\"><pre>LinearRegression()</pre><b>In a Jupyter environment, please rerun this cell to show the HTML representation or trust the notebook. <br />On GitHub, the HTML representation is unable to render, please try loading this page with nbviewer.org.</b></div><div class=\"sk-container\" hidden><div class=\"sk-item\"><div class=\"sk-estimator sk-toggleable\"><input class=\"sk-toggleable__control sk-hidden--visually\" id=\"sk-estimator-id-5\" type=\"checkbox\" checked><label for=\"sk-estimator-id-5\" class=\"sk-toggleable__label sk-toggleable__label-arrow\">LinearRegression</label><div class=\"sk-toggleable__content\"><pre>LinearRegression()</pre></div></div></div></div></div>"
            ]
          },
          "metadata": {},
          "execution_count": 23
        }
      ]
    },
    {
      "cell_type": "markdown",
      "metadata": {
        "id": "pzF3BRps9nlk"
      },
      "source": [
        "## Predicting the Test set results"
      ]
    },
    {
      "cell_type": "code",
      "metadata": {
        "id": "36aFLFBK9pMk",
        "colab": {
          "base_uri": "https://localhost:8080/"
        },
        "outputId": "7bd54a9a-3092-4084-deca-21f4cfbf2a3f"
      },
      "source": [
        "y_pred = regressor.predict(poly_reg.transform(X_test))\n",
        "np.set_printoptions(precision=2)\n",
        "print(np.concatenate((y_pred.reshape(len(y_pred),1), y_test.reshape(len(y_test),1)),1))"
      ],
      "execution_count": null,
      "outputs": [
        {
          "output_type": "stream",
          "name": "stdout",
          "text": [
            "[[37.82 45.3 ]\n",
            " [11.43 14.4 ]\n",
            " [41.9  46.  ]\n",
            " [12.04 15.6 ]\n",
            " [54.47 50.2 ]\n",
            " [34.25 38.1 ]\n",
            " [44.76 48.5 ]\n",
            " [37.31 41.4 ]\n",
            " [49.85 51.6 ]\n",
            " [47.49 40.1 ]\n",
            " [44.25 42.  ]\n",
            " [34.55 42.4 ]\n",
            " [36.95 28.5 ]\n",
            " [43.32 39.1 ]\n",
            " [54.98 53.7 ]\n",
            " [48.67 36.8 ]\n",
            " [33.83 40.6 ]\n",
            " [45.29 55.2 ]\n",
            " [37.03 39.3 ]\n",
            " [42.4  44.3 ]\n",
            " [56.84 53.5 ]\n",
            " [27.54 25.3 ]\n",
            " [24.59 22.8 ]\n",
            " [50.28 51.7 ]\n",
            " [53.5  45.5 ]\n",
            " [40.69 34.4 ]\n",
            " [38.38 31.6 ]\n",
            " [27.18 25.9 ]\n",
            " [53.24 49.5 ]\n",
            " [18.96 24.7 ]\n",
            " [46.77 51.7 ]\n",
            " [25.33 29.7 ]\n",
            " [41.55 45.4 ]\n",
            " [48.42 50.5 ]\n",
            " [37.11 26.5 ]\n",
            " [26.24 30.1 ]\n",
            " [46.41 46.1 ]\n",
            " [31.25 28.9 ]\n",
            " [55.85 54.4 ]\n",
            " [54.45 15.  ]\n",
            " [58.15 44.9 ]\n",
            " [38.26 29.8 ]\n",
            " [24.41 23.6 ]\n",
            " [46.21 48.  ]\n",
            " [18.8  16.7 ]\n",
            " [42.14 40.9 ]\n",
            " [34.51 40.2 ]\n",
            " [16.47 12.9 ]\n",
            " [28.63 21.3 ]\n",
            " [48.24 62.1 ]\n",
            " [56.69 63.9 ]\n",
            " [33.65 40.3 ]\n",
            " [42.29 42.2 ]\n",
            " [16.76 19.1 ]\n",
            " [27.88 28.4 ]\n",
            " [35.93 28.5 ]\n",
            " [56.98 60.7 ]\n",
            " [38.85 37.5 ]\n",
            " [44.01 39.3 ]\n",
            " [26.33 28.8 ]\n",
            " [40.66 42.3 ]\n",
            " [48.79 44.3 ]\n",
            " [39.52 42.6 ]\n",
            " [50.3  57.4 ]\n",
            " [39.29 42.2 ]\n",
            " [23.34 25.7 ]\n",
            " [12.34 13.2 ]\n",
            " [33.36 27.  ]\n",
            " [51.54 56.2 ]\n",
            " [34.25 38.3 ]\n",
            " [26.27 20.8 ]\n",
            " [50.37 43.1 ]\n",
            " [47.15 78.3 ]\n",
            " [27.34 20.9 ]\n",
            " [45.36 32.5 ]\n",
            " [29.11 33.4 ]\n",
            " [25.05 32.1 ]\n",
            " [14.62 19.2 ]\n",
            " [51.84 53.  ]\n",
            " [35.61 38.2 ]\n",
            " [45.   46.7 ]\n",
            " [26.14 24.6 ]\n",
            " [37.91 36.2 ]]\n"
          ]
        }
      ]
    },
    {
      "cell_type": "markdown",
      "metadata": {
        "id": "Fz1uTlWV919-"
      },
      "source": [
        "## Evaluating the Model Performance"
      ]
    },
    {
      "cell_type": "code",
      "metadata": {
        "id": "xvZQ_4W893-e",
        "colab": {
          "base_uri": "https://localhost:8080/"
        },
        "outputId": "fa591c5f-74ff-47d9-d69f-8adc224f3ff5"
      },
      "source": [
        "from sklearn.metrics import r2_score, mean_squared_error,mean_absolute_percentage_error\n",
        "import math\n",
        "maxY=max(y_test)\n",
        "minY=min(y_test)\n",
        "a=maxY-minY\n",
        "print(a)\n",
        "print (\"The R-Squared value is: \"+str(r2_score(y_test, y_pred)))\n",
        "print (\"The Mean Squared Error value is: \"+str(mean_squared_error(y_test, y_pred)))\n",
        "print (\"The Root Mean Squared Error value is: \"+str(math.sqrt(mean_squared_error(y_test, y_pred))))\n",
        "print (\"The Normalize Root Mean Squared Error value is: \"+str(math.sqrt(mean_squared_error(y_test, y_pred))/a*100))\n",
        "print (\"The Mean Absolute Error value is: \"+str(mean_absolute_percentage_error(y_test, y_pred)*100))"
      ],
      "execution_count": null,
      "outputs": [
        {
          "output_type": "stream",
          "name": "stdout",
          "text": [
            "65.39999999999999\n",
            "The R-Squared value is: 0.6579977654760951\n",
            "The Mean Squared Error value is: 59.40545055294472\n",
            "The Root Mean Squared Error value is: 7.7074931432304705\n",
            "The Normalize Root Mean Squared Error value is: 11.785157711361578\n",
            "The Mean Absolute Error value is: 16.449913265554564\n"
          ]
        }
      ]
    }
  ]
}